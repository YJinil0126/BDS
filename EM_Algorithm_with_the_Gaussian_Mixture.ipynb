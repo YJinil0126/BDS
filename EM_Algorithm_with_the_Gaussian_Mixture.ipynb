{
  "nbformat": 4,
  "nbformat_minor": 0,
  "metadata": {
    "colab": {
      "provenance": [],
      "toc_visible": true,
      "authorship_tag": "ABX9TyMzFB13fgYdweT/4nj9v+Xr",
      "include_colab_link": true
    },
    "kernelspec": {
      "name": "python3",
      "display_name": "Python 3"
    },
    "language_info": {
      "name": "python"
    },
    "widgets": {
      "application/vnd.jupyter.widget-state+json": {
        "4e286085ae1c4647b3fda501530af239": {
          "model_module": "@jupyter-widgets/controls",
          "model_name": "VBoxModel",
          "model_module_version": "1.5.0",
          "state": {
            "_dom_classes": [
              "widget-interact"
            ],
            "_model_module": "@jupyter-widgets/controls",
            "_model_module_version": "1.5.0",
            "_model_name": "VBoxModel",
            "_view_count": null,
            "_view_module": "@jupyter-widgets/controls",
            "_view_module_version": "1.5.0",
            "_view_name": "VBoxView",
            "box_style": "",
            "children": [
              "IPY_MODEL_f54da1a4e55443d9bf338c284d0c5b62",
              "IPY_MODEL_551ba362869040d4999b593efa2f9936",
              "IPY_MODEL_c1d5ca0a3396473f92e025bb73c09b3c",
              "IPY_MODEL_c5d26439acb646a8b8e1c417c69fff52",
              "IPY_MODEL_266d68d2b009491f82f91c19f375473a",
              "IPY_MODEL_80ac5ecd784b480dbf8b035e5e156d62",
              "IPY_MODEL_d68ea2cc2d764b06a36ace9257e2ed7e",
              "IPY_MODEL_16b3108fcde64eb2a9472b37658d701b",
              "IPY_MODEL_ccde98f5a0c143dba917b902cbb993b0",
              "IPY_MODEL_086be12825f74badba03815d55c60db5",
              "IPY_MODEL_ab7774a9f1374f59a48cb0fe0da58a22"
            ],
            "layout": "IPY_MODEL_24182b18318e4ce19d86bedd63554551"
          }
        },
        "f54da1a4e55443d9bf338c284d0c5b62": {
          "model_module": "@jupyter-widgets/controls",
          "model_name": "FloatSliderModel",
          "model_module_version": "1.5.0",
          "state": {
            "_dom_classes": [],
            "_model_module": "@jupyter-widgets/controls",
            "_model_module_version": "1.5.0",
            "_model_name": "FloatSliderModel",
            "_view_count": null,
            "_view_module": "@jupyter-widgets/controls",
            "_view_module_version": "1.5.0",
            "_view_name": "FloatSliderView",
            "continuous_update": true,
            "description": "mu1_x",
            "description_tooltip": null,
            "disabled": false,
            "layout": "IPY_MODEL_7923a4442eab4bd99747d5a9073abdae",
            "max": 10,
            "min": -5,
            "orientation": "horizontal",
            "readout": true,
            "readout_format": ".2f",
            "step": 0.5,
            "style": "IPY_MODEL_19f38b81df41407987493005b9c9cc53",
            "value": 2
          }
        },
        "551ba362869040d4999b593efa2f9936": {
          "model_module": "@jupyter-widgets/controls",
          "model_name": "FloatSliderModel",
          "model_module_version": "1.5.0",
          "state": {
            "_dom_classes": [],
            "_model_module": "@jupyter-widgets/controls",
            "_model_module_version": "1.5.0",
            "_model_name": "FloatSliderModel",
            "_view_count": null,
            "_view_module": "@jupyter-widgets/controls",
            "_view_module_version": "1.5.0",
            "_view_name": "FloatSliderView",
            "continuous_update": true,
            "description": "mu1_y",
            "description_tooltip": null,
            "disabled": false,
            "layout": "IPY_MODEL_6a631b4016284bc59762dd92b241f038",
            "max": 10,
            "min": -5,
            "orientation": "horizontal",
            "readout": true,
            "readout_format": ".2f",
            "step": 0.5,
            "style": "IPY_MODEL_d02b0257af9f45cba69b2eecab80db0d",
            "value": 2
          }
        },
        "c1d5ca0a3396473f92e025bb73c09b3c": {
          "model_module": "@jupyter-widgets/controls",
          "model_name": "FloatSliderModel",
          "model_module_version": "1.5.0",
          "state": {
            "_dom_classes": [],
            "_model_module": "@jupyter-widgets/controls",
            "_model_module_version": "1.5.0",
            "_model_name": "FloatSliderModel",
            "_view_count": null,
            "_view_module": "@jupyter-widgets/controls",
            "_view_module_version": "1.5.0",
            "_view_name": "FloatSliderView",
            "continuous_update": true,
            "description": "mu2_x",
            "description_tooltip": null,
            "disabled": false,
            "layout": "IPY_MODEL_ee342f3ab26249fd8804d0f70b400503",
            "max": 10,
            "min": -5,
            "orientation": "horizontal",
            "readout": true,
            "readout_format": ".2f",
            "step": 0.5,
            "style": "IPY_MODEL_6bbe88f9ff0249c5ac0bdbfced37fff4",
            "value": 6
          }
        },
        "c5d26439acb646a8b8e1c417c69fff52": {
          "model_module": "@jupyter-widgets/controls",
          "model_name": "FloatSliderModel",
          "model_module_version": "1.5.0",
          "state": {
            "_dom_classes": [],
            "_model_module": "@jupyter-widgets/controls",
            "_model_module_version": "1.5.0",
            "_model_name": "FloatSliderModel",
            "_view_count": null,
            "_view_module": "@jupyter-widgets/controls",
            "_view_module_version": "1.5.0",
            "_view_name": "FloatSliderView",
            "continuous_update": true,
            "description": "mu2_y",
            "description_tooltip": null,
            "disabled": false,
            "layout": "IPY_MODEL_f5664868708a43a293b87aa4a509e4a5",
            "max": 10,
            "min": -5,
            "orientation": "horizontal",
            "readout": true,
            "readout_format": ".2f",
            "step": 0.5,
            "style": "IPY_MODEL_9ff2178ffd224782bae7f678a9b30e20",
            "value": 6
          }
        },
        "266d68d2b009491f82f91c19f375473a": {
          "model_module": "@jupyter-widgets/controls",
          "model_name": "FloatSliderModel",
          "model_module_version": "1.5.0",
          "state": {
            "_dom_classes": [],
            "_model_module": "@jupyter-widgets/controls",
            "_model_module_version": "1.5.0",
            "_model_name": "FloatSliderModel",
            "_view_count": null,
            "_view_module": "@jupyter-widgets/controls",
            "_view_module_version": "1.5.0",
            "_view_name": "FloatSliderView",
            "continuous_update": true,
            "description": "cov1_var_x",
            "description_tooltip": null,
            "disabled": false,
            "layout": "IPY_MODEL_22ef7cd3e94d4cbd9c24531246026238",
            "max": 5,
            "min": 0.1,
            "orientation": "horizontal",
            "readout": true,
            "readout_format": ".2f",
            "step": 0.1,
            "style": "IPY_MODEL_ada56b4b8010441db8675842656c60ca",
            "value": 1
          }
        },
        "80ac5ecd784b480dbf8b035e5e156d62": {
          "model_module": "@jupyter-widgets/controls",
          "model_name": "FloatSliderModel",
          "model_module_version": "1.5.0",
          "state": {
            "_dom_classes": [],
            "_model_module": "@jupyter-widgets/controls",
            "_model_module_version": "1.5.0",
            "_model_name": "FloatSliderModel",
            "_view_count": null,
            "_view_module": "@jupyter-widgets/controls",
            "_view_module_version": "1.5.0",
            "_view_name": "FloatSliderView",
            "continuous_update": true,
            "description": "cov1_var_y",
            "description_tooltip": null,
            "disabled": false,
            "layout": "IPY_MODEL_085a480d4c9f49889e2675a04f43276b",
            "max": 5,
            "min": 0.1,
            "orientation": "horizontal",
            "readout": true,
            "readout_format": ".2f",
            "step": 0.1,
            "style": "IPY_MODEL_b7a1dbd51112488480d2808f375830a3",
            "value": 1
          }
        },
        "d68ea2cc2d764b06a36ace9257e2ed7e": {
          "model_module": "@jupyter-widgets/controls",
          "model_name": "FloatSliderModel",
          "model_module_version": "1.5.0",
          "state": {
            "_dom_classes": [],
            "_model_module": "@jupyter-widgets/controls",
            "_model_module_version": "1.5.0",
            "_model_name": "FloatSliderModel",
            "_view_count": null,
            "_view_module": "@jupyter-widgets/controls",
            "_view_module_version": "1.5.0",
            "_view_name": "FloatSliderView",
            "continuous_update": true,
            "description": "cov1_cov_xy",
            "description_tooltip": null,
            "disabled": false,
            "layout": "IPY_MODEL_ce5a714f146441958af68be07d9e5d46",
            "max": 2,
            "min": -2,
            "orientation": "horizontal",
            "readout": true,
            "readout_format": ".2f",
            "step": 0.1,
            "style": "IPY_MODEL_4e9d463e2ca94178a5f619317495d56f",
            "value": 1.7
          }
        },
        "16b3108fcde64eb2a9472b37658d701b": {
          "model_module": "@jupyter-widgets/controls",
          "model_name": "FloatSliderModel",
          "model_module_version": "1.5.0",
          "state": {
            "_dom_classes": [],
            "_model_module": "@jupyter-widgets/controls",
            "_model_module_version": "1.5.0",
            "_model_name": "FloatSliderModel",
            "_view_count": null,
            "_view_module": "@jupyter-widgets/controls",
            "_view_module_version": "1.5.0",
            "_view_name": "FloatSliderView",
            "continuous_update": true,
            "description": "cov2_var_x",
            "description_tooltip": null,
            "disabled": false,
            "layout": "IPY_MODEL_70771a60d34c48bcaed8875873603c9a",
            "max": 5,
            "min": 0.1,
            "orientation": "horizontal",
            "readout": true,
            "readout_format": ".2f",
            "step": 0.1,
            "style": "IPY_MODEL_68917369b0304754ada920daefd91699",
            "value": 1.1
          }
        },
        "ccde98f5a0c143dba917b902cbb993b0": {
          "model_module": "@jupyter-widgets/controls",
          "model_name": "FloatSliderModel",
          "model_module_version": "1.5.0",
          "state": {
            "_dom_classes": [],
            "_model_module": "@jupyter-widgets/controls",
            "_model_module_version": "1.5.0",
            "_model_name": "FloatSliderModel",
            "_view_count": null,
            "_view_module": "@jupyter-widgets/controls",
            "_view_module_version": "1.5.0",
            "_view_name": "FloatSliderView",
            "continuous_update": true,
            "description": "cov2_var_y",
            "description_tooltip": null,
            "disabled": false,
            "layout": "IPY_MODEL_03428e41972147a1b3c7eb9bdc0ced67",
            "max": 5,
            "min": 0.1,
            "orientation": "horizontal",
            "readout": true,
            "readout_format": ".2f",
            "step": 0.1,
            "style": "IPY_MODEL_acfe4e9d41a44cc3a6a6d5a81576c28a",
            "value": 1
          }
        },
        "086be12825f74badba03815d55c60db5": {
          "model_module": "@jupyter-widgets/controls",
          "model_name": "FloatSliderModel",
          "model_module_version": "1.5.0",
          "state": {
            "_dom_classes": [],
            "_model_module": "@jupyter-widgets/controls",
            "_model_module_version": "1.5.0",
            "_model_name": "FloatSliderModel",
            "_view_count": null,
            "_view_module": "@jupyter-widgets/controls",
            "_view_module_version": "1.5.0",
            "_view_name": "FloatSliderView",
            "continuous_update": true,
            "description": "cov2_cov_xy",
            "description_tooltip": null,
            "disabled": false,
            "layout": "IPY_MODEL_fe7faec10a344d46a299dc016a04ed42",
            "max": 2,
            "min": -2,
            "orientation": "horizontal",
            "readout": true,
            "readout_format": ".2f",
            "step": 0.1,
            "style": "IPY_MODEL_5ca6a970d53d40708bad44d76b29ea68",
            "value": 1.8
          }
        },
        "ab7774a9f1374f59a48cb0fe0da58a22": {
          "model_module": "@jupyter-widgets/output",
          "model_name": "OutputModel",
          "model_module_version": "1.0.0",
          "state": {
            "_dom_classes": [],
            "_model_module": "@jupyter-widgets/output",
            "_model_module_version": "1.0.0",
            "_model_name": "OutputModel",
            "_view_count": null,
            "_view_module": "@jupyter-widgets/output",
            "_view_module_version": "1.0.0",
            "_view_name": "OutputView",
            "layout": "IPY_MODEL_056a88588750496793c41c3be27f1ec7",
            "msg_id": "",
            "outputs": [
              {
                "output_type": "display_data",
                "data": {
                  "text/plain": "<Figure size 1200x500 with 2 Axes>",
                  "image/png": "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\n"
                },
                "metadata": {}
              }
            ]
          }
        },
        "24182b18318e4ce19d86bedd63554551": {
          "model_module": "@jupyter-widgets/base",
          "model_name": "LayoutModel",
          "model_module_version": "1.2.0",
          "state": {
            "_model_module": "@jupyter-widgets/base",
            "_model_module_version": "1.2.0",
            "_model_name": "LayoutModel",
            "_view_count": null,
            "_view_module": "@jupyter-widgets/base",
            "_view_module_version": "1.2.0",
            "_view_name": "LayoutView",
            "align_content": null,
            "align_items": null,
            "align_self": null,
            "border": null,
            "bottom": null,
            "display": null,
            "flex": null,
            "flex_flow": null,
            "grid_area": null,
            "grid_auto_columns": null,
            "grid_auto_flow": null,
            "grid_auto_rows": null,
            "grid_column": null,
            "grid_gap": null,
            "grid_row": null,
            "grid_template_areas": null,
            "grid_template_columns": null,
            "grid_template_rows": null,
            "height": null,
            "justify_content": null,
            "justify_items": null,
            "left": null,
            "margin": null,
            "max_height": null,
            "max_width": null,
            "min_height": null,
            "min_width": null,
            "object_fit": null,
            "object_position": null,
            "order": null,
            "overflow": null,
            "overflow_x": null,
            "overflow_y": null,
            "padding": null,
            "right": null,
            "top": null,
            "visibility": null,
            "width": null
          }
        },
        "7923a4442eab4bd99747d5a9073abdae": {
          "model_module": "@jupyter-widgets/base",
          "model_name": "LayoutModel",
          "model_module_version": "1.2.0",
          "state": {
            "_model_module": "@jupyter-widgets/base",
            "_model_module_version": "1.2.0",
            "_model_name": "LayoutModel",
            "_view_count": null,
            "_view_module": "@jupyter-widgets/base",
            "_view_module_version": "1.2.0",
            "_view_name": "LayoutView",
            "align_content": null,
            "align_items": null,
            "align_self": null,
            "border": null,
            "bottom": null,
            "display": null,
            "flex": null,
            "flex_flow": null,
            "grid_area": null,
            "grid_auto_columns": null,
            "grid_auto_flow": null,
            "grid_auto_rows": null,
            "grid_column": null,
            "grid_gap": null,
            "grid_row": null,
            "grid_template_areas": null,
            "grid_template_columns": null,
            "grid_template_rows": null,
            "height": null,
            "justify_content": null,
            "justify_items": null,
            "left": null,
            "margin": null,
            "max_height": null,
            "max_width": null,
            "min_height": null,
            "min_width": null,
            "object_fit": null,
            "object_position": null,
            "order": null,
            "overflow": null,
            "overflow_x": null,
            "overflow_y": null,
            "padding": null,
            "right": null,
            "top": null,
            "visibility": null,
            "width": null
          }
        },
        "19f38b81df41407987493005b9c9cc53": {
          "model_module": "@jupyter-widgets/controls",
          "model_name": "SliderStyleModel",
          "model_module_version": "1.5.0",
          "state": {
            "_model_module": "@jupyter-widgets/controls",
            "_model_module_version": "1.5.0",
            "_model_name": "SliderStyleModel",
            "_view_count": null,
            "_view_module": "@jupyter-widgets/base",
            "_view_module_version": "1.2.0",
            "_view_name": "StyleView",
            "description_width": "",
            "handle_color": null
          }
        },
        "6a631b4016284bc59762dd92b241f038": {
          "model_module": "@jupyter-widgets/base",
          "model_name": "LayoutModel",
          "model_module_version": "1.2.0",
          "state": {
            "_model_module": "@jupyter-widgets/base",
            "_model_module_version": "1.2.0",
            "_model_name": "LayoutModel",
            "_view_count": null,
            "_view_module": "@jupyter-widgets/base",
            "_view_module_version": "1.2.0",
            "_view_name": "LayoutView",
            "align_content": null,
            "align_items": null,
            "align_self": null,
            "border": null,
            "bottom": null,
            "display": null,
            "flex": null,
            "flex_flow": null,
            "grid_area": null,
            "grid_auto_columns": null,
            "grid_auto_flow": null,
            "grid_auto_rows": null,
            "grid_column": null,
            "grid_gap": null,
            "grid_row": null,
            "grid_template_areas": null,
            "grid_template_columns": null,
            "grid_template_rows": null,
            "height": null,
            "justify_content": null,
            "justify_items": null,
            "left": null,
            "margin": null,
            "max_height": null,
            "max_width": null,
            "min_height": null,
            "min_width": null,
            "object_fit": null,
            "object_position": null,
            "order": null,
            "overflow": null,
            "overflow_x": null,
            "overflow_y": null,
            "padding": null,
            "right": null,
            "top": null,
            "visibility": null,
            "width": null
          }
        },
        "d02b0257af9f45cba69b2eecab80db0d": {
          "model_module": "@jupyter-widgets/controls",
          "model_name": "SliderStyleModel",
          "model_module_version": "1.5.0",
          "state": {
            "_model_module": "@jupyter-widgets/controls",
            "_model_module_version": "1.5.0",
            "_model_name": "SliderStyleModel",
            "_view_count": null,
            "_view_module": "@jupyter-widgets/base",
            "_view_module_version": "1.2.0",
            "_view_name": "StyleView",
            "description_width": "",
            "handle_color": null
          }
        },
        "ee342f3ab26249fd8804d0f70b400503": {
          "model_module": "@jupyter-widgets/base",
          "model_name": "LayoutModel",
          "model_module_version": "1.2.0",
          "state": {
            "_model_module": "@jupyter-widgets/base",
            "_model_module_version": "1.2.0",
            "_model_name": "LayoutModel",
            "_view_count": null,
            "_view_module": "@jupyter-widgets/base",
            "_view_module_version": "1.2.0",
            "_view_name": "LayoutView",
            "align_content": null,
            "align_items": null,
            "align_self": null,
            "border": null,
            "bottom": null,
            "display": null,
            "flex": null,
            "flex_flow": null,
            "grid_area": null,
            "grid_auto_columns": null,
            "grid_auto_flow": null,
            "grid_auto_rows": null,
            "grid_column": null,
            "grid_gap": null,
            "grid_row": null,
            "grid_template_areas": null,
            "grid_template_columns": null,
            "grid_template_rows": null,
            "height": null,
            "justify_content": null,
            "justify_items": null,
            "left": null,
            "margin": null,
            "max_height": null,
            "max_width": null,
            "min_height": null,
            "min_width": null,
            "object_fit": null,
            "object_position": null,
            "order": null,
            "overflow": null,
            "overflow_x": null,
            "overflow_y": null,
            "padding": null,
            "right": null,
            "top": null,
            "visibility": null,
            "width": null
          }
        },
        "6bbe88f9ff0249c5ac0bdbfced37fff4": {
          "model_module": "@jupyter-widgets/controls",
          "model_name": "SliderStyleModel",
          "model_module_version": "1.5.0",
          "state": {
            "_model_module": "@jupyter-widgets/controls",
            "_model_module_version": "1.5.0",
            "_model_name": "SliderStyleModel",
            "_view_count": null,
            "_view_module": "@jupyter-widgets/base",
            "_view_module_version": "1.2.0",
            "_view_name": "StyleView",
            "description_width": "",
            "handle_color": null
          }
        },
        "f5664868708a43a293b87aa4a509e4a5": {
          "model_module": "@jupyter-widgets/base",
          "model_name": "LayoutModel",
          "model_module_version": "1.2.0",
          "state": {
            "_model_module": "@jupyter-widgets/base",
            "_model_module_version": "1.2.0",
            "_model_name": "LayoutModel",
            "_view_count": null,
            "_view_module": "@jupyter-widgets/base",
            "_view_module_version": "1.2.0",
            "_view_name": "LayoutView",
            "align_content": null,
            "align_items": null,
            "align_self": null,
            "border": null,
            "bottom": null,
            "display": null,
            "flex": null,
            "flex_flow": null,
            "grid_area": null,
            "grid_auto_columns": null,
            "grid_auto_flow": null,
            "grid_auto_rows": null,
            "grid_column": null,
            "grid_gap": null,
            "grid_row": null,
            "grid_template_areas": null,
            "grid_template_columns": null,
            "grid_template_rows": null,
            "height": null,
            "justify_content": null,
            "justify_items": null,
            "left": null,
            "margin": null,
            "max_height": null,
            "max_width": null,
            "min_height": null,
            "min_width": null,
            "object_fit": null,
            "object_position": null,
            "order": null,
            "overflow": null,
            "overflow_x": null,
            "overflow_y": null,
            "padding": null,
            "right": null,
            "top": null,
            "visibility": null,
            "width": null
          }
        },
        "9ff2178ffd224782bae7f678a9b30e20": {
          "model_module": "@jupyter-widgets/controls",
          "model_name": "SliderStyleModel",
          "model_module_version": "1.5.0",
          "state": {
            "_model_module": "@jupyter-widgets/controls",
            "_model_module_version": "1.5.0",
            "_model_name": "SliderStyleModel",
            "_view_count": null,
            "_view_module": "@jupyter-widgets/base",
            "_view_module_version": "1.2.0",
            "_view_name": "StyleView",
            "description_width": "",
            "handle_color": null
          }
        },
        "22ef7cd3e94d4cbd9c24531246026238": {
          "model_module": "@jupyter-widgets/base",
          "model_name": "LayoutModel",
          "model_module_version": "1.2.0",
          "state": {
            "_model_module": "@jupyter-widgets/base",
            "_model_module_version": "1.2.0",
            "_model_name": "LayoutModel",
            "_view_count": null,
            "_view_module": "@jupyter-widgets/base",
            "_view_module_version": "1.2.0",
            "_view_name": "LayoutView",
            "align_content": null,
            "align_items": null,
            "align_self": null,
            "border": null,
            "bottom": null,
            "display": null,
            "flex": null,
            "flex_flow": null,
            "grid_area": null,
            "grid_auto_columns": null,
            "grid_auto_flow": null,
            "grid_auto_rows": null,
            "grid_column": null,
            "grid_gap": null,
            "grid_row": null,
            "grid_template_areas": null,
            "grid_template_columns": null,
            "grid_template_rows": null,
            "height": null,
            "justify_content": null,
            "justify_items": null,
            "left": null,
            "margin": null,
            "max_height": null,
            "max_width": null,
            "min_height": null,
            "min_width": null,
            "object_fit": null,
            "object_position": null,
            "order": null,
            "overflow": null,
            "overflow_x": null,
            "overflow_y": null,
            "padding": null,
            "right": null,
            "top": null,
            "visibility": null,
            "width": null
          }
        },
        "ada56b4b8010441db8675842656c60ca": {
          "model_module": "@jupyter-widgets/controls",
          "model_name": "SliderStyleModel",
          "model_module_version": "1.5.0",
          "state": {
            "_model_module": "@jupyter-widgets/controls",
            "_model_module_version": "1.5.0",
            "_model_name": "SliderStyleModel",
            "_view_count": null,
            "_view_module": "@jupyter-widgets/base",
            "_view_module_version": "1.2.0",
            "_view_name": "StyleView",
            "description_width": "",
            "handle_color": null
          }
        },
        "085a480d4c9f49889e2675a04f43276b": {
          "model_module": "@jupyter-widgets/base",
          "model_name": "LayoutModel",
          "model_module_version": "1.2.0",
          "state": {
            "_model_module": "@jupyter-widgets/base",
            "_model_module_version": "1.2.0",
            "_model_name": "LayoutModel",
            "_view_count": null,
            "_view_module": "@jupyter-widgets/base",
            "_view_module_version": "1.2.0",
            "_view_name": "LayoutView",
            "align_content": null,
            "align_items": null,
            "align_self": null,
            "border": null,
            "bottom": null,
            "display": null,
            "flex": null,
            "flex_flow": null,
            "grid_area": null,
            "grid_auto_columns": null,
            "grid_auto_flow": null,
            "grid_auto_rows": null,
            "grid_column": null,
            "grid_gap": null,
            "grid_row": null,
            "grid_template_areas": null,
            "grid_template_columns": null,
            "grid_template_rows": null,
            "height": null,
            "justify_content": null,
            "justify_items": null,
            "left": null,
            "margin": null,
            "max_height": null,
            "max_width": null,
            "min_height": null,
            "min_width": null,
            "object_fit": null,
            "object_position": null,
            "order": null,
            "overflow": null,
            "overflow_x": null,
            "overflow_y": null,
            "padding": null,
            "right": null,
            "top": null,
            "visibility": null,
            "width": null
          }
        },
        "b7a1dbd51112488480d2808f375830a3": {
          "model_module": "@jupyter-widgets/controls",
          "model_name": "SliderStyleModel",
          "model_module_version": "1.5.0",
          "state": {
            "_model_module": "@jupyter-widgets/controls",
            "_model_module_version": "1.5.0",
            "_model_name": "SliderStyleModel",
            "_view_count": null,
            "_view_module": "@jupyter-widgets/base",
            "_view_module_version": "1.2.0",
            "_view_name": "StyleView",
            "description_width": "",
            "handle_color": null
          }
        },
        "ce5a714f146441958af68be07d9e5d46": {
          "model_module": "@jupyter-widgets/base",
          "model_name": "LayoutModel",
          "model_module_version": "1.2.0",
          "state": {
            "_model_module": "@jupyter-widgets/base",
            "_model_module_version": "1.2.0",
            "_model_name": "LayoutModel",
            "_view_count": null,
            "_view_module": "@jupyter-widgets/base",
            "_view_module_version": "1.2.0",
            "_view_name": "LayoutView",
            "align_content": null,
            "align_items": null,
            "align_self": null,
            "border": null,
            "bottom": null,
            "display": null,
            "flex": null,
            "flex_flow": null,
            "grid_area": null,
            "grid_auto_columns": null,
            "grid_auto_flow": null,
            "grid_auto_rows": null,
            "grid_column": null,
            "grid_gap": null,
            "grid_row": null,
            "grid_template_areas": null,
            "grid_template_columns": null,
            "grid_template_rows": null,
            "height": null,
            "justify_content": null,
            "justify_items": null,
            "left": null,
            "margin": null,
            "max_height": null,
            "max_width": null,
            "min_height": null,
            "min_width": null,
            "object_fit": null,
            "object_position": null,
            "order": null,
            "overflow": null,
            "overflow_x": null,
            "overflow_y": null,
            "padding": null,
            "right": null,
            "top": null,
            "visibility": null,
            "width": null
          }
        },
        "4e9d463e2ca94178a5f619317495d56f": {
          "model_module": "@jupyter-widgets/controls",
          "model_name": "SliderStyleModel",
          "model_module_version": "1.5.0",
          "state": {
            "_model_module": "@jupyter-widgets/controls",
            "_model_module_version": "1.5.0",
            "_model_name": "SliderStyleModel",
            "_view_count": null,
            "_view_module": "@jupyter-widgets/base",
            "_view_module_version": "1.2.0",
            "_view_name": "StyleView",
            "description_width": "",
            "handle_color": null
          }
        },
        "70771a60d34c48bcaed8875873603c9a": {
          "model_module": "@jupyter-widgets/base",
          "model_name": "LayoutModel",
          "model_module_version": "1.2.0",
          "state": {
            "_model_module": "@jupyter-widgets/base",
            "_model_module_version": "1.2.0",
            "_model_name": "LayoutModel",
            "_view_count": null,
            "_view_module": "@jupyter-widgets/base",
            "_view_module_version": "1.2.0",
            "_view_name": "LayoutView",
            "align_content": null,
            "align_items": null,
            "align_self": null,
            "border": null,
            "bottom": null,
            "display": null,
            "flex": null,
            "flex_flow": null,
            "grid_area": null,
            "grid_auto_columns": null,
            "grid_auto_flow": null,
            "grid_auto_rows": null,
            "grid_column": null,
            "grid_gap": null,
            "grid_row": null,
            "grid_template_areas": null,
            "grid_template_columns": null,
            "grid_template_rows": null,
            "height": null,
            "justify_content": null,
            "justify_items": null,
            "left": null,
            "margin": null,
            "max_height": null,
            "max_width": null,
            "min_height": null,
            "min_width": null,
            "object_fit": null,
            "object_position": null,
            "order": null,
            "overflow": null,
            "overflow_x": null,
            "overflow_y": null,
            "padding": null,
            "right": null,
            "top": null,
            "visibility": null,
            "width": null
          }
        },
        "68917369b0304754ada920daefd91699": {
          "model_module": "@jupyter-widgets/controls",
          "model_name": "SliderStyleModel",
          "model_module_version": "1.5.0",
          "state": {
            "_model_module": "@jupyter-widgets/controls",
            "_model_module_version": "1.5.0",
            "_model_name": "SliderStyleModel",
            "_view_count": null,
            "_view_module": "@jupyter-widgets/base",
            "_view_module_version": "1.2.0",
            "_view_name": "StyleView",
            "description_width": "",
            "handle_color": null
          }
        },
        "03428e41972147a1b3c7eb9bdc0ced67": {
          "model_module": "@jupyter-widgets/base",
          "model_name": "LayoutModel",
          "model_module_version": "1.2.0",
          "state": {
            "_model_module": "@jupyter-widgets/base",
            "_model_module_version": "1.2.0",
            "_model_name": "LayoutModel",
            "_view_count": null,
            "_view_module": "@jupyter-widgets/base",
            "_view_module_version": "1.2.0",
            "_view_name": "LayoutView",
            "align_content": null,
            "align_items": null,
            "align_self": null,
            "border": null,
            "bottom": null,
            "display": null,
            "flex": null,
            "flex_flow": null,
            "grid_area": null,
            "grid_auto_columns": null,
            "grid_auto_flow": null,
            "grid_auto_rows": null,
            "grid_column": null,
            "grid_gap": null,
            "grid_row": null,
            "grid_template_areas": null,
            "grid_template_columns": null,
            "grid_template_rows": null,
            "height": null,
            "justify_content": null,
            "justify_items": null,
            "left": null,
            "margin": null,
            "max_height": null,
            "max_width": null,
            "min_height": null,
            "min_width": null,
            "object_fit": null,
            "object_position": null,
            "order": null,
            "overflow": null,
            "overflow_x": null,
            "overflow_y": null,
            "padding": null,
            "right": null,
            "top": null,
            "visibility": null,
            "width": null
          }
        },
        "acfe4e9d41a44cc3a6a6d5a81576c28a": {
          "model_module": "@jupyter-widgets/controls",
          "model_name": "SliderStyleModel",
          "model_module_version": "1.5.0",
          "state": {
            "_model_module": "@jupyter-widgets/controls",
            "_model_module_version": "1.5.0",
            "_model_name": "SliderStyleModel",
            "_view_count": null,
            "_view_module": "@jupyter-widgets/base",
            "_view_module_version": "1.2.0",
            "_view_name": "StyleView",
            "description_width": "",
            "handle_color": null
          }
        },
        "fe7faec10a344d46a299dc016a04ed42": {
          "model_module": "@jupyter-widgets/base",
          "model_name": "LayoutModel",
          "model_module_version": "1.2.0",
          "state": {
            "_model_module": "@jupyter-widgets/base",
            "_model_module_version": "1.2.0",
            "_model_name": "LayoutModel",
            "_view_count": null,
            "_view_module": "@jupyter-widgets/base",
            "_view_module_version": "1.2.0",
            "_view_name": "LayoutView",
            "align_content": null,
            "align_items": null,
            "align_self": null,
            "border": null,
            "bottom": null,
            "display": null,
            "flex": null,
            "flex_flow": null,
            "grid_area": null,
            "grid_auto_columns": null,
            "grid_auto_flow": null,
            "grid_auto_rows": null,
            "grid_column": null,
            "grid_gap": null,
            "grid_row": null,
            "grid_template_areas": null,
            "grid_template_columns": null,
            "grid_template_rows": null,
            "height": null,
            "justify_content": null,
            "justify_items": null,
            "left": null,
            "margin": null,
            "max_height": null,
            "max_width": null,
            "min_height": null,
            "min_width": null,
            "object_fit": null,
            "object_position": null,
            "order": null,
            "overflow": null,
            "overflow_x": null,
            "overflow_y": null,
            "padding": null,
            "right": null,
            "top": null,
            "visibility": null,
            "width": null
          }
        },
        "5ca6a970d53d40708bad44d76b29ea68": {
          "model_module": "@jupyter-widgets/controls",
          "model_name": "SliderStyleModel",
          "model_module_version": "1.5.0",
          "state": {
            "_model_module": "@jupyter-widgets/controls",
            "_model_module_version": "1.5.0",
            "_model_name": "SliderStyleModel",
            "_view_count": null,
            "_view_module": "@jupyter-widgets/base",
            "_view_module_version": "1.2.0",
            "_view_name": "StyleView",
            "description_width": "",
            "handle_color": null
          }
        },
        "056a88588750496793c41c3be27f1ec7": {
          "model_module": "@jupyter-widgets/base",
          "model_name": "LayoutModel",
          "model_module_version": "1.2.0",
          "state": {
            "_model_module": "@jupyter-widgets/base",
            "_model_module_version": "1.2.0",
            "_model_name": "LayoutModel",
            "_view_count": null,
            "_view_module": "@jupyter-widgets/base",
            "_view_module_version": "1.2.0",
            "_view_name": "LayoutView",
            "align_content": null,
            "align_items": null,
            "align_self": null,
            "border": null,
            "bottom": null,
            "display": null,
            "flex": null,
            "flex_flow": null,
            "grid_area": null,
            "grid_auto_columns": null,
            "grid_auto_flow": null,
            "grid_auto_rows": null,
            "grid_column": null,
            "grid_gap": null,
            "grid_row": null,
            "grid_template_areas": null,
            "grid_template_columns": null,
            "grid_template_rows": null,
            "height": null,
            "justify_content": null,
            "justify_items": null,
            "left": null,
            "margin": null,
            "max_height": null,
            "max_width": null,
            "min_height": null,
            "min_width": null,
            "object_fit": null,
            "object_position": null,
            "order": null,
            "overflow": null,
            "overflow_x": null,
            "overflow_y": null,
            "padding": null,
            "right": null,
            "top": null,
            "visibility": null,
            "width": null
          }
        }
      }
    }
  },
  "cells": [
    {
      "cell_type": "markdown",
      "metadata": {
        "id": "view-in-github",
        "colab_type": "text"
      },
      "source": [
        "<a href=\"https://colab.research.google.com/github/YJinil0126/BDS/blob/master/EM_Algorithm_with_the_Gaussian_Mixture.ipynb\" target=\"_parent\"><img src=\"https://colab.research.google.com/assets/colab-badge.svg\" alt=\"Open In Colab\"/></a>"
      ]
    },
    {
      "cell_type": "markdown",
      "source": [
        "Agenda.\n",
        "1. Show Scikit-Learn Implementation <br>\n",
        "2. Gaining intuition into EM Algorithm. <br>\n",
        "3. The Mathematical Theory Behind the EM algorithm for GMM <br>\n",
        "4. Implementation. <br>\n",
        "5. Explaining major parts of EM Algorithm with respect to Numpy. <br>\n",
        "6. Look at the EM algorithm Again. <br>\n",
        "7. Experiment with parameters and see how that affects convergence."
      ],
      "metadata": {
        "id": "0VVQm1CppM51"
      }
    },
    {
      "cell_type": "markdown",
      "source": [
        "EM Algorithm with GMM uses many ideas from probability.<br>\n",
        "1. Bayes Theorem <br>\n",
        "2. Law of Total Probability <br>\n",
        "3. Covariance, Variance <br>\n",
        "4. Multivariate Normal Distribution <br>\n",
        "5. Maximum Likelihood Estimation\n"
      ],
      "metadata": {
        "id": "Y3ifU3NFslL6"
      }
    },
    {
      "cell_type": "markdown",
      "source": [
        "#### Scikit-Learn Implementation"
      ],
      "metadata": {
        "id": "463EvWm1nK92"
      }
    },
    {
      "cell_type": "code",
      "source": [
        "import numpy as np\n",
        "import matplotlib.pyplot as plt\n",
        "from sklearn.mixture import GaussianMixture\n",
        "from sklearn.datasets import make_blobs\n",
        "\n",
        "# Step 1: Create synthetic 2D data\n",
        "X, y_true = make_blobs(n_samples=300, centers=3, cluster_std=0.60, random_state=42)\n",
        "\n",
        "# Step 2: Fit a GMM\n",
        "gmm = GaussianMixture(n_components=3, random_state=42)\n",
        "gmm.fit(X)\n",
        "\n",
        "# Step 3: Predict cluster assignments\n",
        "labels = gmm.predict(X)\n",
        "\n",
        "# Optional: Probability of each component\n",
        "probs = gmm.predict_proba(X)  # shape (300, 3)\n",
        "\n",
        "# Step 4: Plot the clusters\n",
        "plt.figure(figsize=(8, 6))\n",
        "plt.scatter(X[:, 0], X[:, 1], c=labels, cmap='viridis', s=40, alpha=0.6)\n",
        "\n",
        "# Step 5: Plot the GMM means\n",
        "plt.scatter(gmm.means_[:, 0], gmm.means_[:, 1], c='red', s=100, marker='X', label='Means')\n",
        "plt.title(\"GMM Clustering with scikit-learn\")\n",
        "plt.legend()\n",
        "plt.show()\n"
      ],
      "metadata": {
        "colab": {
          "base_uri": "https://localhost:8080/",
          "height": 545
        },
        "id": "BmoM5QZ3bp0U",
        "outputId": "a0620082-0d7a-4173-8aac-f6cf19eb82c7"
      },
      "execution_count": 1,
      "outputs": [
        {
          "output_type": "display_data",
          "data": {
            "text/plain": [
              "<Figure size 800x600 with 1 Axes>"
            ],
            "image/png": "[encoded data removed]"
          },
          "metadata": {}
        }
      ]
    },
    {
      "cell_type": "markdown",
      "source": [
        "“The EM algorithm lets you pretend you have complete data, estimate what’s missing, and then optimize as if your guess were true.” <br>--Larry Wasserman, American Statistician"
      ],
      "metadata": {
        "id": "JIyb4jHKEmvE"
      }
    },
    {
      "cell_type": "markdown",
      "source": [
        "# Expectation-Maximization (EM) Algorithm\n",
        "\n"
      ],
      "metadata": {
        "id": "9DXW7tzbbdu2"
      }
    },
    {
      "cell_type": "markdown",
      "source": [
        "## What Are Latent Variables?\n",
        "\n",
        "Latent variables are **hidden** or **unobserved** factors that influence the data.\n",
        "\n",
        "### 🔹 Example: Gaussian Mixture Model\n",
        "\n",
        "You observe 2D data points. They were generated from multiple Gaussian distributions, but:\n",
        "- You don’t know how many Gaussians there are\n",
        "- You don’t know which point came from which distribution\n",
        "\n",
        "Each point has a **latent variable**: its *cluster membership* or component assignment.\n",
        "\n",
        "### 🔹 Real-Life Analogy\n",
        "\n",
        "Imagine students take a test:\n",
        "- You observe scores\n",
        "- You don’t observe intelligence or motivation\n",
        "\n",
        "Those unobserved factors are **latent variables**.\n",
        "\n",
        "The EM algorithm helps estimate both:\n",
        "1. The latent variables (E-step)\n",
        "2. The model parameters (M-step)\n"
      ],
      "metadata": {
        "id": "mw83iKncbmAx"
      }
    },
    {
      "cell_type": "markdown",
      "source": [
        "## 🔍 What Exactly Is Missing in the EM Algorithm for GMM?\n",
        "\n",
        "In the **Expectation-Maximization (EM) algorithm** for **Gaussian Mixture Models (GMMs)**, the **missing data** are the **latent variables** — specifically, the component assignments for each observed data point.\n",
        "\n",
        "---\n",
        "\n",
        "### ✅ Observed vs. Missing\n",
        "\n",
        "We **observe**:\n",
        "\n",
        "- The data points:  \n",
        "  $X = \\{x_1, x_2, \\dots, x_N\\}$\n",
        "\n",
        "We **do not observe**:\n",
        "\n",
        "- The component or cluster labels:  \n",
        "  $Z = \\{z_1, z_2, \\dots, z_N\\}$\n",
        "\n",
        "Each $z_i$ is a latent variable that indicates which Gaussian component generated $x_i$. It can be represented as a categorical variable:\n",
        "\n",
        "- $z_i \\in \\{1, 2, \\dots, K\\}$  \n",
        "  or as a one-hot encoded vector over $K$ components.\n",
        "\n",
        "---\n",
        "\n",
        "### 💡 Why It’s “Missing Data”\n",
        "\n",
        "If we knew the values of $z_i$, we could directly use **maximum likelihood estimation** on the **complete-data log-likelihood**:\n",
        "\n",
        "$$\n",
        "\\log p(X, Z \\mid \\theta)\n",
        "$$\n",
        "\n",
        "But since $z_i$ is **missing**, we instead maximize the **marginal likelihood** of the observed data:\n",
        "\n",
        "$$\n",
        "\\log p(X \\mid \\theta) = \\sum_{i=1}^{N} \\log \\left( \\sum_{k=1}^{K} \\pi_k \\, \\mathcal{N}(x_i \\mid \\mu_k, \\Sigma_k) \\right)\n",
        "$$\n",
        "\n",
        "---\n",
        "\n",
        "### 🔁 How the EM Algorithm Fills in the Missing Data\n",
        "\n",
        "#### E-Step (Expectation)\n",
        "\n",
        "Estimate the expected value of the missing latent variables. That is, compute the **responsibility** $r_{ik}$ — the probability that data point $x_i$ was generated by component $k$:\n",
        "\n",
        "$$\n",
        "r_{ik} = P(z_i = k \\mid x_i, \\theta) = \\frac{\\pi_k \\mathcal{N}(x_i \\mid \\mu_k, \\Sigma_k)}{\\sum_{j=1}^{K} \\pi_j \\mathcal{N}(x_i \\mid \\mu_j, \\Sigma_j)}\n",
        "$$\n",
        "\n",
        "#### M-Step (Maximization)\n",
        "\n",
        "Use the responsibilities $r_{ik}$ to update the model parameters $\\theta = \\{\\pi_k, \\mu_k, \\Sigma_k\\}$.\n",
        "\n",
        "---\n",
        "\n",
        "### 🧠 Summary Table\n",
        "\n",
        "| Term         | Observed or Missing? | Description                                |\n",
        "|--------------|----------------------|--------------------------------------------|\n",
        "| $x_i$        | Observed             | Data point                                  |\n",
        "| $z_i$        | Missing (latent)     | Component assignment for $x_i$              |\n",
        "| $\\pi_k$      | To be estimated      | Mixing coefficient for component $k$        |\n",
        "| $\\mu_k$      | To be estimated      | Mean of Gaussian component $k$              |\n",
        "| $\\Sigma_k$   | To be estimated      | Covariance matrix of Gaussian component $k$ |\n",
        "\n",
        "---\n",
        "\n",
        "The EM algorithm fills in the **missing labels** $z_i$ probabilistically using the current parameter estimates, then uses those soft assignments to improve the parameter estimates — iterating until convergence.\n"
      ],
      "metadata": {
        "id": "KnkJdsARuCoT"
      }
    },
    {
      "cell_type": "markdown",
      "source": [],
      "metadata": {
        "id": "WhIDlEGKowCU"
      }
    },
    {
      "cell_type": "markdown",
      "source": [
        "## Review: Multivariate Gaussian Probability Density Function (PDF)\n",
        "\n",
        "For a $d$-dimensional data vector $x_i$, the PDF of the multivariate normal distribution with mean vector $\\mu_k \\in \\mathbb{R}^d$ and covariance matrix $\\Sigma_k \\in \\mathbb{R}^{d \\times d}$ is:\n",
        "\n",
        "$$\n",
        "\\mathcal{N}(x_i | \\mu_k, \\Sigma_k) = \\frac{1}{(2 \\pi)^{d/2} |\\Sigma_k|^{1/2}} \\exp \\left( -\\frac{1}{2} (x_i - \\mu_k)^T \\Sigma_k^{-1} (x_i - \\mu_k) \\right)\n",
        "$$\n",
        "\n",
        "---\n",
        "\n",
        "### Definitions of Variables:\n",
        "\n",
        "- $x_i \\in \\mathbb{R}^d$: The $i$-th observed data vector with $d$ features.  \n",
        "- $\\mu_k \\in \\mathbb{R}^d$: Mean vector of the $k$-th Gaussian component.  \n",
        "- $\\Sigma_k \\in \\mathbb{R}^{d \\times d}$: Covariance matrix of the $k$-th Gaussian component.  \n",
        "- $|\\Sigma_k|$: **Determinant** of the covariance matrix $\\Sigma_k$, a scalar measuring the volume scaling of the Gaussian.  \n",
        "- $\\Sigma_k^{-1} \\in \\mathbb{R}^{d \\times d}$: **Inverse** of the covariance matrix.  \n",
        "- $d$: Dimensionality of the data (number of features).  \n",
        "- $(x_i - \\mu_k)^T$: Transpose of the vector $(x_i - \\mu_k)$, resulting in a $1 \\times d$ row vector.  \n",
        "- $(x_i - \\mu_k)^T \\Sigma_k^{-1} (x_i - \\mu_k)$: The **Mahalanobis distance squared** between $x_i$ and $\\mu_k$, which measures distance accounting for covariance. (Scalar)\n",
        "\n",
        "---\n",
        "\n"
      ],
      "metadata": {
        "id": "ghbNFW7QMwlI"
      }
    },
    {
      "cell_type": "markdown",
      "source": [
        "**Expectation-Maximization (EM) Algorithm for Gaussian Mixture Models (GMM)**\n",
        "\n",
        "The Expectation-Maximization (EM) algorithm is an iterative method used for finding maximum likelihood estimates of parameters in probabilistic models, particularly when the model involves latent (hidden) variables. In the case of Gaussian Mixture Models (GMM), EM is used to estimate the parameters of multiple Gaussian distributions that describe a given set of data.\n",
        "\n",
        "A GMM assumes that the data is generated from a mixture of several Gaussian distributions. The model is defined by a set of parameters:\n",
        "\n",
        "- $k$, the number of Gaussian components.\n",
        "- $\\pi_k$, the mixing coefficient for each component. (Prior Probability)\n",
        "- $\\mu_k$, the mean of each Gaussian component.\n",
        "- $\\Sigma_k$, the covariance of each Gaussian component.\n",
        "\n",
        "**Goal of the EM Algorithm**\n",
        "\n",
        "The goal of the EM algorithm is to maximize the likelihood of the observed data by estimating the parameters $\\theta = \\{ \\pi_k, \\mu_k, \\Sigma_k \\}$ that best explain the data.<br>\n",
        "\n",
        "$$\n",
        "\\theta^* = \\arg \\max_{\\theta} \\, \\mathcal{L}(\\theta)\n",
        "$$\n",
        "\n",
        "In the Expectation-Maximization algorithm for GMMs, the goal is to **maximize the log-likelihood** of the observed data under the mixture model. The objective function is:\n",
        "\n",
        "$$\n",
        "\\mathcal{L}(\\theta) = \\sum_{i=1}^{N} \\log \\left( \\sum_{k=1}^{K} \\pi_k \\, \\mathcal{N}(x_i \\mid \\mu_k, \\Sigma_k) \\right)\n",
        "$$\n",
        "\n",
        "Where:\n",
        "\n",
        "- $N$ is the number of data points.\n",
        "- $K$ is the number of Gaussian components.\n",
        "- $\\pi_k$ is the mixing coefficient for the $k$-th Gaussian, with $\\sum_k \\pi_k = 1$.\n",
        "- $\\mathcal{N}(x_i \\mid \\mu_k, \\Sigma_k)$ is the multivariate Gaussian probability density evaluated at $x_i$.\n",
        "- $\\theta = \\{\\pi_k, \\mu_k, \\Sigma_k\\}_{k=1}^K$ are the parameters we optimize.\n",
        "---\n",
        "\n",
        "### **EM Algorithm: Intuition**\n",
        "\n",
        "The EM algorithm alternates between two steps:\n",
        "\n",
        "1. **Expectation Step (E-Step)**: Calculate the expected value of the latent variables given the observed data and current estimates of the model parameters.\n",
        "   \n",
        "2. **Maximization Step (M-Step)**: Update the parameters of the model by maximizing the expected log-likelihood found in the E-step.\n",
        "\n",
        "### **Step 1: E-Step**\n",
        "\n",
        "In the E-step, we estimate the posterior probability that each data point $x_i$ belongs to each Gaussian component $k$. These are the responsibilities, denoted as $r_{ik}$, which are the probabilities that data point $x_i$ is generated by the $k$-th Gaussian component.\n",
        "\n",
        "The posterior probability (responsibility) for the $k$-th Gaussian component given the data point $x_i$ is computed as:\n",
        "\n",
        "$$\n",
        "r_{ik} = \\frac{\\pi_k \\mathcal{N}(x_i | \\mu_k, \\Sigma_k)}{\\sum_{j=1}^{K} \\pi_j \\mathcal{N}(x_i | \\mu_j, \\Sigma_j)}\n",
        "$$\n",
        "\n",
        "Where:\n",
        "\n",
        "- $\\mathcal{N}(x_i | \\mu_k, \\Sigma_k)$ is the probability density function (PDF) of the Gaussian distribution with mean $\\mu_k$ and covariance $\\Sigma_k$ evaluated at $x_i$.\n",
        "  \n",
        "  $$\n",
        "  \\mathcal{N}(x_i | \\mu_k, \\Sigma_k) = \\frac{1}{(2 \\pi)^{d/2} |\\Sigma_k|^{1/2}} \\exp \\left( -\\frac{1}{2} (x_i - \\mu_k)^T \\Sigma_k^{-1} (x_i - \\mu_k) \\right)\n",
        "  $$\n",
        "\n",
        "- $\\pi_k$ is the mixing coefficient for the $k$-th Gaussian component.\n",
        "- $K$ is the total number of Gaussian components.\n",
        "\n",
        "### **Step 2: M-Step**\n",
        "\n",
        "In the M-step, the parameters $\\pi_k$, $\\mu_k$, and $\\Sigma_k$ are updated to maximize the expected log-likelihood. The updates are based on the responsibilities $r_{ik}$ computed in the E-step.\n",
        "\n",
        "1. **Update the Mixing Coefficients**:\n",
        "\n",
        "The mixing coefficient $\\pi_k$ is updated as the average responsibility for the $k$-th component across all data points:\n",
        "\n",
        "$$\n",
        "\\pi_k = \\frac{1}{N} \\sum_{i=1}^{N} r_{ik}\n",
        "$$\n",
        "\n",
        "Where $N$ is the total number of data points.\n",
        "\n",
        "2. **Update the Means**:\n",
        "\n",
        "The mean $\\mu_k$ for the $k$-th component is updated as the weighted average of the data points, weighted by the responsibilities $r_{ik}$:\n",
        "\n",
        "$$\n",
        "\\mu_k = \\frac{\\sum_{i=1}^{N} r_{ik} x_i}{\\sum_{i=1}^{N} r_{ik}}\n",
        "$$\n",
        "\n",
        "3. **Update the Covariances**:\n",
        "\n",
        "The covariance $\\Sigma_k$ for the $k$-th component is updated as the weighted covariance of the data points, again weighted by the responsibilities $r_{ik}$:\n",
        "\n",
        "$$\n",
        "\\Sigma_k = \\frac{\\sum_{i=1}^{N} r_{ik} (x_i - \\mu_k)(x_i - \\mu_k)^T}{\\sum_{i=1}^{N} r_{ik}}\n",
        "$$\n",
        "\n",
        "### **Convergence**\n",
        "\n",
        "The EM algorithm iterates between the E-step and M-step until the log-likelihood converges or changes by a small amount. The log-likelihood at each iteration is given by:\n",
        "\n",
        "$$\n",
        "\\mathcal{L}(\\theta) = \\sum_{i=1}^{N} \\log \\left( \\sum_{k=1}^{K} \\pi_k \\mathcal{N}(x_i | \\mu_k, \\Sigma_k) \\right)\n",
        "$$\n",
        "\n",
        "This function measures how well the current parameters fit the data, and the algorithm stops when the change in this value becomes sufficiently small.\n",
        "\n",
        "---\n",
        "\n",
        "### **Summary of the Algorithm**\n",
        "\n",
        "The EM algorithm for Gaussian Mixture Models involves the following steps:\n",
        "\n",
        "1. **Initialize** the parameters $\\pi_k$, $\\mu_k$, and $\\Sigma_k$.\n",
        "2. **E-Step**: Calculate the responsibilities $r_{ik}$ for each data point $x_i$ based on the current parameters.\n",
        "3. **M-Step**: Update the parameters $\\pi_k$, $\\mu_k$, and $\\Sigma_k$ using the responsibilities $r_{ik}$.\n",
        "4. **Repeat** steps until convergence.\n"
      ],
      "metadata": {
        "id": "-sNNnoMmKNoN"
      }
    },
    {
      "cell_type": "markdown",
      "source": [
        "**Mixing coefficient** (Prior) is  saying:\n",
        "\n",
        "“Before I see any data, I believe 30% of the time the data will come from Gaussian #2.”\n",
        "\n",
        "**Responsibility** (Posterior) is:\n",
        "\n",
        "“Now that I’ve seen this data point, I think there’s a 70% chance it came from Gaussian #2.”"
      ],
      "metadata": {
        "id": "73Q-10pGrtAl"
      }
    },
    {
      "cell_type": "markdown",
      "source": [
        "##### Gaussian Mixture Model Responsibilities, Law of Total Probability, and Bayes Theorem\n",
        "\n",
        "In a Gaussian Mixture Model with $K$ components, each data point $x_i$ is assumed to be generated from one of the $K$ Gaussian distributions. The probability of observing $x_i$ is given by the law of total probability:\n",
        "\n",
        "$$\n",
        "\\mathbb{P}(x_i) = \\sum_{k=1}^{K} \\pi_k \\mathcal{N}(x_i | \\mu_k, \\Sigma_k)\n",
        "$$\n",
        "\n",
        "Here:\n",
        "\n",
        "- $\\pi_k$ is the mixing coefficient for component $k$, representing the prior probability that a point comes from component $k$.\n",
        "- $\\mathcal{N}(x_i | \\mu_k, \\Sigma_k)$ is the likelihood of $x_i$ under the $k$-th Gaussian distribution.\n",
        "\n",
        "The responsibility $r_{ik}$ represents the posterior probability that data point $x_i$ was generated by component $k$. Using Bayes’ Theorem:\n",
        "\n",
        "$$\n",
        "r_{ik} = \\mathbb{P}(z_i = k \\mid x_i) = \\frac{\\mathbb{P}(x_i \\mid z_i = k) \\mathbb{P}(z_i = k)}{\\mathbb{P}(x_i)}\n",
        "$$\n",
        "\n",
        "Substituting in the Gaussian mixture model terms:\n",
        "\n",
        "$$\n",
        "r_{ik} = \\frac{\\pi_k \\mathcal{N}(x_i | \\mu_k, \\Sigma_k)}{\\sum_{j=1}^{K} \\pi_j \\mathcal{N}(x_i | \\mu_j, \\Sigma_j)}\n",
        "$$\n",
        "\n",
        "In the case where $K = 2$, there are two Gaussians. For each data point $x_i$, we compute two responsibilities:\n",
        "\n",
        "$$\n",
        "r_{i1} = \\frac{\\pi_1 \\mathcal{N}(x_i | \\mu_1, \\Sigma_1)}{\\pi_1 \\mathcal{N}(x_i | \\mu_1, \\Sigma_1) + \\pi_2 \\mathcal{N}(x_i | \\mu_2, \\Sigma_2)}\n",
        "$$\n",
        "\n",
        "$$\n",
        "r_{i2} = \\frac{\\pi_2 \\mathcal{N}(x_i | \\mu_2, \\Sigma_2)}{\\pi_1 \\mathcal{N}(x_i | \\mu_1, \\Sigma_1) + \\pi_2 \\mathcal{N}(x_i | \\mu_2, \\Sigma_2)}\n",
        "$$\n",
        "\n",
        "These responsibilities satisfy:\n",
        "\n",
        "$$\n",
        "r_{i1} + r_{i2} = 1\n",
        "$$\n",
        "\n",
        "This is an application of the **law of total probability**, which ensures the model accounts for all possible components in explaining the data.\n"
      ],
      "metadata": {
        "id": "wsEAH8pFQTBh"
      }
    },
    {
      "cell_type": "markdown",
      "source": [
        "## EM Algorithm Implementation in Python"
      ],
      "metadata": {
        "id": "lNQQfxEtHHmd"
      }
    },
    {
      "cell_type": "markdown",
      "source": [
        "A 2×2 covariance matrix with 1s as variances and 0s as covariances:\n",
        "\n",
        "$$\n",
        "\\Sigma =\n",
        "\\begin{bmatrix}\n",
        "1 & 0 \\\\\n",
        "0 & 1\n",
        "\\end{bmatrix}\n",
        "$$\n",
        "\n",
        "This represents two variables that:\n",
        "- Have unit variance\n",
        "- Are uncorrelated with each other\n",
        "\n"
      ],
      "metadata": {
        "id": "tnnXzb6NHUOU"
      }
    },
    {
      "cell_type": "code",
      "source": [
        "import numpy as np\n",
        "import matplotlib.pyplot as plt\n",
        "from scipy.stats import multivariate_normal\n",
        "\n",
        "# Generate synthetic 2D data\n",
        "np.random.seed(42)\n",
        "n = 300\n",
        "mu1, mu2 = [2, 2], [8, 8]\n",
        "sigma1, sigma2 = [[1, 0], [0, 1]], [[1, 0], [0, 1]]\n",
        "\n",
        "X = np.vstack([\n",
        "    np.random.multivariate_normal(mu1, sigma1, n),\n",
        "    np.random.multivariate_normal(mu2, sigma2, n)\n",
        "])\n",
        "\n",
        "plt.scatter(X[:, 0], X[:, 1], s=10)\n",
        "plt.title(\"Generated Data (from 2 Gaussian clusters)\")\n",
        "plt.show()\n"
      ],
      "metadata": {
        "colab": {
          "base_uri": "https://localhost:8080/",
          "height": 452
        },
        "id": "vCAV_cxRJCOd",
        "outputId": "c7b183d9-b4e6-41cc-f850-7a627592c685"
      },
      "execution_count": 8,
      "outputs": [
        {
          "output_type": "display_data",
          "data": {
            "text/plain": [
              "<Figure size 640x480 with 1 Axes>"
            ],
            "image/png": "[encoded data removed]"
          },
          "metadata": {}
        }
      ]
    },
    {
      "cell_type": "code",
      "source": [
        "sigma1"
      ],
      "metadata": {
        "id": "3EOYtXiCw-NK",
        "colab": {
          "base_uri": "https://localhost:8080/"
        },
        "outputId": "1534df1b-9042-4613-cf98-fbef1e405643"
      },
      "execution_count": 9,
      "outputs": [
        {
          "output_type": "execute_result",
          "data": {
            "text/plain": [
              "[[1, 0], [0, 1]]"
            ]
          },
          "metadata": {},
          "execution_count": 9
        }
      ]
    },
    {
      "cell_type": "code",
      "source": [],
      "metadata": {
        "id": "w8w9OLfQw_QC"
      },
      "execution_count": null,
      "outputs": []
    },
    {
      "cell_type": "code",
      "source": [
        "# EM for 2-component Gaussian Mixture Model\n",
        "\n",
        "k = 2\n",
        "n_samples, n_features = X.shape\n",
        "\n",
        "# Initialize\n",
        "weights = np.full(k, 1 / k)\n",
        "means = X[np.random.choice(n_samples, k, replace=False)]\n",
        "covariances = np.array([np.cov(X, rowvar=False)] * k)\n",
        "\n",
        "# EM loop\n",
        "for iteration in range(10):\n",
        "    # E-step\n",
        "    responsibilities = np.zeros((n_samples, k))\n",
        "    for i in range(k):\n",
        "        responsibilities[:, i] = weights[i] * multivariate_normal.pdf(X, means[i], covariances[i])\n",
        "    responsibilities /= responsibilities.sum(axis=1, keepdims=True)\n",
        "\n",
        "    # M-step\n",
        "    for i in range(k):\n",
        "        N_k = responsibilities[:, i].sum()\n",
        "        means[i] = (responsibilities[:, i][:, np.newaxis] * X).sum(axis=0) / N_k\n",
        "        diff = X - means[i]\n",
        "        covariances[i] = (responsibilities[:, i][:, np.newaxis, np.newaxis] *\n",
        "                          np.einsum('ni,nj->nij', diff, diff)).sum(axis=0) / N_k\n",
        "        weights[i] = N_k / n_samples\n"
      ],
      "metadata": {
        "id": "ugIkMlwxJHqk"
      },
      "execution_count": 10,
      "outputs": []
    },
    {
      "cell_type": "code",
      "source": [
        "means.shape"
      ],
      "metadata": {
        "colab": {
          "base_uri": "https://localhost:8080/"
        },
        "id": "1xkwBSFjP6rC",
        "outputId": "61262b51-a0ad-4704-eb39-5b8da2d5b27e"
      },
      "execution_count": 11,
      "outputs": [
        {
          "output_type": "execute_result",
          "data": {
            "text/plain": [
              "(2, 2)"
            ]
          },
          "metadata": {},
          "execution_count": 11
        }
      ]
    },
    {
      "cell_type": "code",
      "source": [
        "covariances"
      ],
      "metadata": {
        "colab": {
          "base_uri": "https://localhost:8080/"
        },
        "id": "pvI6IRkmPv9s",
        "outputId": "78e19bd7-558d-4886-8ca5-b97231de9105"
      },
      "execution_count": 14,
      "outputs": [
        {
          "output_type": "execute_result",
          "data": {
            "text/plain": [
              "array([[[ 0.95580013,  0.01281185],\n",
              "        [ 0.01281185,  0.93134669]],\n",
              "\n",
              "       [[ 0.90598887, -0.087958  ],\n",
              "        [-0.087958  ,  1.09992881]]])"
            ]
          },
          "metadata": {},
          "execution_count": 14
        }
      ]
    },
    {
      "cell_type": "code",
      "source": [
        "plt.scatter(X[:, 0], X[:, 1], c=responsibilities.argmax(axis=1), cmap='viridis', s=10)\n",
        "plt.scatter(means[:, 0], means[:, 1], c='red', marker='x', s=100)\n",
        "plt.title(\"Cluster Assignments After EM\")\n",
        "plt.show()\n"
      ],
      "metadata": {
        "colab": {
          "base_uri": "https://localhost:8080/",
          "height": 452
        },
        "id": "Wysja0KWScsE",
        "outputId": "cec7a77b-b712-4b43-f569-83014873b6cd"
      },
      "execution_count": 13,
      "outputs": [
        {
          "output_type": "display_data",
          "data": {
            "text/plain": [
              "<Figure size 640x480 with 1 Axes>"
            ],
            "image/png": "[encoded data removed]"
          },
          "metadata": {}
        }
      ]
    },
    {
      "cell_type": "markdown",
      "source": [
        "## Key NumPy Concepts in EM Algorithm — with Examples\n",
        "\n",
        "| Concept         | Math Description                                                           | NumPy Operation                                                   | Key Point                                                                 |\n",
        "| --------------- | -------------------------------------------------------------------------- | ----------------------------------------------------------------- | ------------------------------------------------------------------------- |\n",
        "| **Broadcasting**  | Multiply $\\gamma_{ji}$ (shape $(n,1)$) with $\\mathbf{x}_j$ (shape $(n,d)$) | `responsibilities[:, i][:, np.newaxis] * X`                       | Enables weighted sums without explicit loops                              |\n",
        "| **Normalization** | Normalize $\\gamma_{ji}$ to sum to 1 across components for each $j$        | `responsibilities /= responsibilities.sum(axis=1, keepdims=True)` | Keeps probabilities summing to 1 per data point                           |\n",
        "| **Outer product** | Compute $(\\mathbf{x}_j - \\boldsymbol{\\mu}_i)(\\mathbf{x}_j - \\boldsymbol{\\mu}_i)^\\top$ | `np.einsum('ni,nj->nij', diff, diff)`                             | Efficiently calculates all outer products                                 |\n",
        "| **Summation**     | Sum weighted values over all samples $j$                                  | `.sum(axis=0)`                                                    | `axis=0` sums **down columns** (across rows = samples); `axis=1` sums across columns |\n"
      ],
      "metadata": {
        "id": "UMDgezJT-w-_"
      }
    },
    {
      "cell_type": "markdown",
      "source": [
        "### 🧠 What is `np.newaxis` in NumPy?\n",
        "\n",
        "`np.newaxis` is a way to **add a new dimension** to an array — it's like reshaping without using `.reshape()`.\n",
        "\n",
        "---\n",
        "\n",
        "### 🔢 Why would you need it?\n",
        "\n",
        "Because many NumPy operations (like broadcasting) require shapes to align. If your array has shape `(n,)` and you want it to behave like `(n, 1)` or `(1, n)`, `np.newaxis` helps you do that **without copying data**.\n",
        "\n",
        "---\n",
        "\n",
        "### 📐 Examples\n",
        "\n",
        "#### 1. Convert a 1D array (vector) to a column vector:\n",
        "\n",
        "```python\n",
        "a = np.array([1, 2, 3])       # shape (3,)\n",
        "a[:, np.newaxis]              # shape (3, 1)\n"
      ],
      "metadata": {
        "id": "QDD7pRm8BgUA"
      }
    },
    {
      "cell_type": "code",
      "source": [
        "a=np.array([1,2,3])\n",
        "a.shape"
      ],
      "metadata": {
        "colab": {
          "base_uri": "https://localhost:8080/"
        },
        "id": "HYHO4Yl7IQIX",
        "outputId": "931cd870-c4ee-4028-8b6f-c7fde433f9fe"
      },
      "execution_count": 15,
      "outputs": [
        {
          "output_type": "execute_result",
          "data": {
            "text/plain": [
              "(3,)"
            ]
          },
          "metadata": {},
          "execution_count": 15
        }
      ]
    },
    {
      "cell_type": "code",
      "source": [
        "temp=a.reshape(-1,1)\n",
        "temp"
      ],
      "metadata": {
        "colab": {
          "base_uri": "https://localhost:8080/"
        },
        "id": "z9XdNA5SQFuL",
        "outputId": "2a3e4e7f-d868-4678-afbc-6a5fa3798cae"
      },
      "execution_count": 23,
      "outputs": [
        {
          "output_type": "execute_result",
          "data": {
            "text/plain": [
              "array([[1],\n",
              "       [2],\n",
              "       [3]])"
            ]
          },
          "metadata": {},
          "execution_count": 23
        }
      ]
    },
    {
      "cell_type": "code",
      "source": [
        "a=np.array([1,2,3])\n",
        "\n",
        "a[:,np.newaxis]\n"
      ],
      "metadata": {
        "id": "1cDuNaw7H0ES",
        "colab": {
          "base_uri": "https://localhost:8080/"
        },
        "outputId": "59dcb0b1-93e0-4f85-facd-52f03c88248f"
      },
      "execution_count": 24,
      "outputs": [
        {
          "output_type": "execute_result",
          "data": {
            "text/plain": [
              "array([[1],\n",
              "       [2],\n",
              "       [3]])"
            ]
          },
          "metadata": {},
          "execution_count": 24
        }
      ]
    },
    {
      "cell_type": "code",
      "source": [
        "a=np.array([1,2,3])\n",
        "a[np.newaxis,:]"
      ],
      "metadata": {
        "id": "IEoVNxThH6-j",
        "colab": {
          "base_uri": "https://localhost:8080/"
        },
        "outputId": "fa4ff325-072e-411d-f108-b3f522df6b3e"
      },
      "execution_count": 25,
      "outputs": [
        {
          "output_type": "execute_result",
          "data": {
            "text/plain": [
              "array([[1, 2, 3]])"
            ]
          },
          "metadata": {},
          "execution_count": 25
        }
      ]
    },
    {
      "cell_type": "markdown",
      "source": [
        "###### Row vector"
      ],
      "metadata": {
        "id": "BmyifJ-OatZg"
      }
    },
    {
      "cell_type": "code",
      "source": [
        "a.reshape(1,-1)"
      ],
      "metadata": {
        "colab": {
          "base_uri": "https://localhost:8080/"
        },
        "id": "rcr7HczPQ74a",
        "outputId": "7c72376a-f683-4df0-aa0c-29ee828da42e"
      },
      "execution_count": 26,
      "outputs": [
        {
          "output_type": "execute_result",
          "data": {
            "text/plain": [
              "array([[1, 2, 3]])"
            ]
          },
          "metadata": {},
          "execution_count": 26
        }
      ]
    },
    {
      "cell_type": "markdown",
      "source": [
        "##### Column Vector"
      ],
      "metadata": {
        "id": "fnO9jYKgaws2"
      }
    },
    {
      "cell_type": "code",
      "source": [
        "a.reshape(-1,1)"
      ],
      "metadata": {
        "colab": {
          "base_uri": "https://localhost:8080/"
        },
        "id": "J5nfiOMMaqWi",
        "outputId": "cfda973c-810b-4ec4-8e51-5b5b276320ef"
      },
      "execution_count": 27,
      "outputs": [
        {
          "output_type": "execute_result",
          "data": {
            "text/plain": [
              "array([[1],\n",
              "       [2],\n",
              "       [3]])"
            ]
          },
          "metadata": {},
          "execution_count": 27
        }
      ]
    },
    {
      "cell_type": "markdown",
      "source": [
        " An array with 3 items, where each item is a 1-row, 1-column matrix."
      ],
      "metadata": {
        "id": "EdAEVuzw-3yr"
      }
    },
    {
      "cell_type": "code",
      "source": [
        "a[:,np.newaxis,np.newaxis]"
      ],
      "metadata": {
        "colab": {
          "base_uri": "https://localhost:8080/"
        },
        "id": "hsrFbBznIal1",
        "outputId": "155db051-50a8-4022-ee34-df1233cbe516"
      },
      "execution_count": 28,
      "outputs": [
        {
          "output_type": "execute_result",
          "data": {
            "text/plain": [
              "array([[[1]],\n",
              "\n",
              "       [[2]],\n",
              "\n",
              "       [[3]]])"
            ]
          },
          "metadata": {},
          "execution_count": 28
        }
      ]
    },
    {
      "cell_type": "code",
      "source": [
        "a[:,np.newaxis,np.newaxis].shape"
      ],
      "metadata": {
        "colab": {
          "base_uri": "https://localhost:8080/"
        },
        "id": "wibo6RtBItl0",
        "outputId": "c715a908-1f37-4f18-95a2-0e41bd05d15d"
      },
      "execution_count": 29,
      "outputs": [
        {
          "output_type": "execute_result",
          "data": {
            "text/plain": [
              "(3, 1, 1)"
            ]
          },
          "metadata": {},
          "execution_count": 29
        }
      ]
    },
    {
      "cell_type": "markdown",
      "source": [
        "### Broadcasting"
      ],
      "metadata": {
        "id": "8oxqvsZTBANZ"
      }
    },
    {
      "cell_type": "code",
      "source": [
        "import numpy as np\n",
        "\n",
        "# Simulated data\n",
        "X = np.array([[1.0, 2.0],   # shape (4, 2)\n",
        "              [3.0, 4.0],\n",
        "              [5.0, 6.0],\n",
        "              [7.0, 8.0]])\n",
        "\n",
        "# Simulated responsibilities for component i (shape (4,))\n",
        "resp_i = np.array([0.1, 0.2, 0.3, 0.4])  # shape (4,)\n",
        "\n",
        "# Broadcast to match X\n",
        "weighted_X = resp_i[:, np.newaxis] * X  # shape (4, 2)\n",
        "print(weighted_X)\n",
        "\n"
      ],
      "metadata": {
        "id": "j4XJ3hZ1AuYb",
        "colab": {
          "base_uri": "https://localhost:8080/"
        },
        "outputId": "8be5e115-a1da-4a23-cdbc-65e12e9c0839"
      },
      "execution_count": 30,
      "outputs": [
        {
          "output_type": "stream",
          "name": "stdout",
          "text": [
            "[[0.1 0.2]\n",
            " [0.6 0.8]\n",
            " [1.5 1.8]\n",
            " [2.8 3.2]]\n"
          ]
        }
      ]
    },
    {
      "cell_type": "code",
      "source": [
        "resp_i[:,np.newaxis]"
      ],
      "metadata": {
        "colab": {
          "base_uri": "https://localhost:8080/"
        },
        "id": "nBwkY0LMYIgM",
        "outputId": "3db8677f-99bf-488c-a69b-cbfa7bb1ea3b"
      },
      "execution_count": 32,
      "outputs": [
        {
          "output_type": "execute_result",
          "data": {
            "text/plain": [
              "array([[0.1],\n",
              "       [0.2],\n",
              "       [0.3],\n",
              "       [0.4]])"
            ]
          },
          "metadata": {},
          "execution_count": 32
        }
      ]
    },
    {
      "cell_type": "code",
      "source": [
        "X.shape"
      ],
      "metadata": {
        "colab": {
          "base_uri": "https://localhost:8080/"
        },
        "id": "ZhUvHwCQZ_Gr",
        "outputId": "8ba37c5b-1ee7-4a4c-a491-bac7810efa60"
      },
      "execution_count": null,
      "outputs": [
        {
          "output_type": "execute_result",
          "data": {
            "text/plain": [
              "(4, 2)"
            ]
          },
          "metadata": {},
          "execution_count": 22
        }
      ]
    },
    {
      "cell_type": "code",
      "source": [
        "weighted_X.shape"
      ],
      "metadata": {
        "colab": {
          "base_uri": "https://localhost:8080/"
        },
        "id": "KU2_mNLXYWC2",
        "outputId": "6b6eebdc-1dec-4201-907a-301808e8179e"
      },
      "execution_count": null,
      "outputs": [
        {
          "output_type": "execute_result",
          "data": {
            "text/plain": [
              "(4, 2)"
            ]
          },
          "metadata": {},
          "execution_count": 21
        }
      ]
    },
    {
      "cell_type": "markdown",
      "source": [],
      "metadata": {
        "id": "q6gOA-3SYHgD"
      }
    },
    {
      "cell_type": "code",
      "source": [],
      "metadata": {
        "id": "JYyUdEP0Q4b1"
      },
      "execution_count": null,
      "outputs": []
    },
    {
      "cell_type": "markdown",
      "source": [
        "### Normalization"
      ],
      "metadata": {
        "id": "SlUvETLBB-Er"
      }
    },
    {
      "cell_type": "code",
      "source": [
        "responsibilities = np.array([[0.6, 0.4], [0.2, 0.8]])\n",
        "responsibilities /= responsibilities.sum(axis=1, keepdims=True)\n"
      ],
      "metadata": {
        "id": "YmS9EvgmCDeK"
      },
      "execution_count": 33,
      "outputs": []
    },
    {
      "cell_type": "code",
      "source": [
        "responsibilities"
      ],
      "metadata": {
        "id": "BYBz22H6FPp1",
        "colab": {
          "base_uri": "https://localhost:8080/"
        },
        "outputId": "68a17859-4adb-494c-d0e9-7cb12e0840eb"
      },
      "execution_count": 34,
      "outputs": [
        {
          "output_type": "execute_result",
          "data": {
            "text/plain": [
              "array([[0.6, 0.4],\n",
              "       [0.2, 0.8]])"
            ]
          },
          "metadata": {},
          "execution_count": 34
        }
      ]
    },
    {
      "cell_type": "code",
      "source": [
        "responsibilities.sum(axis=1,keepdims=True)"
      ],
      "metadata": {
        "colab": {
          "base_uri": "https://localhost:8080/"
        },
        "id": "RmfxRL46E6Ow",
        "outputId": "f95e54b0-935c-4ed7-82b2-a9bacb9ac26d"
      },
      "execution_count": 35,
      "outputs": [
        {
          "output_type": "execute_result",
          "data": {
            "text/plain": [
              "array([[1.],\n",
              "       [1.]])"
            ]
          },
          "metadata": {},
          "execution_count": 35
        }
      ]
    },
    {
      "cell_type": "markdown",
      "source": [
        "### Outer Product"
      ],
      "metadata": {
        "id": "8kJWpF4HCj2_"
      }
    },
    {
      "cell_type": "code",
      "source": [
        "x = np.array([[2.0, 1.0], [3.0, 4.0]])\n",
        "mu = np.array([2.5, 2.5])\n",
        "diff = x - mu  # shape (2, 2)\n",
        "diff.shape"
      ],
      "metadata": {
        "id": "sX5g-wjJCtF7",
        "colab": {
          "base_uri": "https://localhost:8080/"
        },
        "outputId": "2d01d37d-66e9-4e0a-dbf9-48310e67b12d"
      },
      "execution_count": 36,
      "outputs": [
        {
          "output_type": "execute_result",
          "data": {
            "text/plain": [
              "(2, 2)"
            ]
          },
          "metadata": {},
          "execution_count": 36
        }
      ]
    },
    {
      "cell_type": "code",
      "source": [
        "temp=np.einsum('ni,nj->nij', diff, diff)\n",
        "temp.shape"
      ],
      "metadata": {
        "colab": {
          "base_uri": "https://localhost:8080/"
        },
        "id": "i8mQBkGyCuss",
        "outputId": "ac4f3e8e-489f-4b8c-8a65-fc1ef9da96a0"
      },
      "execution_count": 38,
      "outputs": [
        {
          "output_type": "execute_result",
          "data": {
            "text/plain": [
              "(2, 2, 2)"
            ]
          },
          "metadata": {},
          "execution_count": 38
        }
      ]
    },
    {
      "cell_type": "code",
      "source": [
        "temp.shape"
      ],
      "metadata": {
        "colab": {
          "base_uri": "https://localhost:8080/"
        },
        "id": "9B1fyStwDCDY",
        "outputId": "3778f36c-347a-49e9-d3f5-0cf761c87c40"
      },
      "execution_count": 39,
      "outputs": [
        {
          "output_type": "execute_result",
          "data": {
            "text/plain": [
              "(2, 2, 2)"
            ]
          },
          "metadata": {},
          "execution_count": 39
        }
      ]
    },
    {
      "cell_type": "markdown",
      "source": [
        "### Summation\n",
        "To get Covariance Estimate"
      ],
      "metadata": {
        "id": "9CUbdEsJDPkI"
      }
    },
    {
      "cell_type": "code",
      "source": [
        "gamma = np.array([0.6, 0.4])[:, np.newaxis, np.newaxis]\n",
        "weighted_cov = gamma * np.einsum('ni,nj->nij', diff, diff)\n",
        "covariance = weighted_cov.sum(axis=0)\n",
        "covariance"
      ],
      "metadata": {
        "id": "nTZNhTeUDYLx",
        "colab": {
          "base_uri": "https://localhost:8080/"
        },
        "outputId": "e829f9c9-6e5c-47c2-fad4-dbc68abc5bb1"
      },
      "execution_count": 40,
      "outputs": [
        {
          "output_type": "execute_result",
          "data": {
            "text/plain": [
              "array([[0.25, 0.75],\n",
              "       [0.75, 2.25]])"
            ]
          },
          "metadata": {},
          "execution_count": 40
        }
      ]
    },
    {
      "cell_type": "code",
      "source": [
        "gamma.shape"
      ],
      "metadata": {
        "colab": {
          "base_uri": "https://localhost:8080/"
        },
        "id": "ZdT2k18gDOYm",
        "outputId": "f19e7ae7-97f7-4734-fd14-a4f5bf8fcf5d"
      },
      "execution_count": 41,
      "outputs": [
        {
          "output_type": "execute_result",
          "data": {
            "text/plain": [
              "(2, 1, 1)"
            ]
          },
          "metadata": {},
          "execution_count": 41
        }
      ]
    },
    {
      "cell_type": "code",
      "source": [
        "weighted_cov"
      ],
      "metadata": {
        "colab": {
          "base_uri": "https://localhost:8080/"
        },
        "id": "IJda0Fj2Dtb7",
        "outputId": "642b8107-b936-41ac-c8e9-f934aeb520a3"
      },
      "execution_count": 43,
      "outputs": [
        {
          "output_type": "execute_result",
          "data": {
            "text/plain": [
              "array([[[0.15, 0.45],\n",
              "        [0.45, 1.35]],\n",
              "\n",
              "       [[0.1 , 0.3 ],\n",
              "        [0.3 , 0.9 ]]])"
            ]
          },
          "metadata": {},
          "execution_count": 43
        }
      ]
    },
    {
      "cell_type": "code",
      "source": [
        "covariance.shape"
      ],
      "metadata": {
        "colab": {
          "base_uri": "https://localhost:8080/"
        },
        "id": "IebHLneCDzO4",
        "outputId": "c848ec1c-691f-4c0a-cfce-54898b56b0f8"
      },
      "execution_count": null,
      "outputs": [
        {
          "output_type": "execute_result",
          "data": {
            "text/plain": [
              "(2, 2)"
            ]
          },
          "metadata": {},
          "execution_count": 17
        }
      ]
    },
    {
      "cell_type": "markdown",
      "source": [
        "### Outer Product and Summation"
      ],
      "metadata": {
        "id": "MH1q1kJBUtfZ"
      }
    },
    {
      "cell_type": "code",
      "source": [
        "import numpy as np\n",
        "\n",
        "# 3 samples, 2 features\n",
        "X = np.array([\n",
        "    [1.0, 2.0],\n",
        "    [2.0, 3.0],\n",
        "    [3.0, 4.0]\n",
        "])  # shape (3, 2)\n",
        "\n",
        "# Mean for one component (e.g., GMM component 0)\n",
        "mean = np.array([2.0, 3.0])  # shape (2,)\n",
        "\n",
        "# Responsibilities for 3 samples toward this component\n",
        "r = np.array([0.2, 0.5, 0.3])  # shape (3,)\n",
        "\n",
        "# Step 1: Compute diff\n",
        "diff = X - mean  # shape: (3, 2)\n",
        "\n",
        "# Step 2: Outer products using einsum\n",
        "outer_products = np.einsum('ni,nj->nij', diff, diff)\n",
        "# shape: (3, 2, 2)\n",
        "\n",
        "# Step 3: Reshape responsibilities to broadcast: (3,) → (3, 1, 1)\n",
        "r_weighted = r[:, np.newaxis, np.newaxis]  # shape: (3, 1, 1)\n",
        "\n",
        "# Step 4: Apply element-wise multiplication\n",
        "weighted_outer_products = r_weighted * outer_products  # shape: (3, 2, 2)\n",
        "\n",
        "# Step 5: Sum across samples\n",
        "covariance = weighted_outer_products.sum(axis=0) / r.sum()  # shape: (2, 2)\n",
        "\n",
        "print(\"Covariance matrix:\\n\", covariance)\n"
      ],
      "metadata": {
        "colab": {
          "base_uri": "https://localhost:8080/"
        },
        "id": "FQrzAshSUzpt",
        "outputId": "6f7b88a4-cc7f-420e-973e-1a744a806d74"
      },
      "execution_count": 44,
      "outputs": [
        {
          "output_type": "stream",
          "name": "stdout",
          "text": [
            "Covariance matrix:\n",
            " [[0.5 0.5]\n",
            " [0.5 0.5]]\n"
          ]
        }
      ]
    },
    {
      "cell_type": "markdown",
      "source": [
        "# EM Algorithm with Comments"
      ],
      "metadata": {
        "id": "-OBTroP4C9wZ"
      }
    },
    {
      "cell_type": "code",
      "source": [
        "# EM Algorithm for GMM with Comments\n",
        "import numpy as np\n",
        "import matplotlib.pyplot as plt\n",
        "from scipy.stats import multivariate_normal\n",
        "\n",
        "# --- Step 1: Generate Synthetic 2D Data ---\n",
        "np.random.seed(42)\n",
        "n = 300\n",
        "mu1, mu2 = [2, 2], [8, 8]\n",
        "sigma1, sigma2 = [[1, 0], [0, 1]], [[1, 0], [0, 1]]\n",
        "\n",
        "# Create two Gaussian clusters and stack them\n",
        "X = np.vstack([\n",
        "    np.random.multivariate_normal(mu1, sigma1, n),\n",
        "    np.random.multivariate_normal(mu2, sigma2, n)\n",
        "])\n",
        "\n",
        "# --- Step 2: Initialize Parameters ---\n",
        "k = 2  # Number of Gaussian components\n",
        "n_samples, n_features = X.shape\n",
        "max_iter = 100\n",
        "tol = 1e-4  # Convergence threshold\n",
        "\n",
        "np.random.seed(0)\n",
        "\n",
        "# Mixing coefficients (π) — probability of each component\n",
        "weights = np.full(k, 1 / k)\n",
        "\n",
        "# Means (μ) — initialized by randomly picking data points\n",
        "means = X[np.random.choice(n_samples, k, replace=False)]\n",
        "\n",
        "# Covariance matrices (Σ) — start with same covariance for each component\n",
        "covariances = np.array([np.cov(X, rowvar=False) + 1e-6 * np.eye(n_features) for _ in range(k)])\n",
        "\n",
        "log_likelihoods = []\n",
        "\n",
        "# --- Step 3: Run EM Iterations ---\n",
        "for iteration in range(max_iter):\n",
        "    # --- E-step: Estimate Responsibilities (γ) ---\n",
        "    responsibilities = np.zeros((n_samples, k))\n",
        "\n",
        "    for i in range(k):\n",
        "        # For each component, calculate the weighted PDF\n",
        "        responsibilities[:, i] = weights[i] * multivariate_normal.pdf(X, mean=means[i], cov=covariances[i])\n",
        "\n",
        "    # Normalize responsibilities for each sample to sum to 1\n",
        "    responsibilities_sum = responsibilities.sum(axis=1, keepdims=True)\n",
        "    responsibilities /= responsibilities_sum\n",
        "\n",
        "    # --- Log-likelihood (for monitoring convergence) ---\n",
        "    ll = np.sum(np.log(responsibilities_sum))\n",
        "    log_likelihoods.append(ll)\n",
        "\n",
        "    if iteration > 0 and abs(log_likelihoods[-1] - log_likelihoods[-2]) < tol:\n",
        "        break  # Stop if improvement is very small\n",
        "\n",
        "    # --- M-step: Update Parameters Using Responsibilities ---\n",
        "    for i in range(k):\n",
        "        N_k = responsibilities[:, i].sum()  # Effective number of points assigned to cluster i\n",
        "\n",
        "        # Update mean (μ_i)\n",
        "        means[i] = (responsibilities[:, i][:, np.newaxis] * X).sum(axis=0) / N_k\n",
        "\n",
        "        # Update covariance matrix (Σ_i)\n",
        "        diff = X - means[i]\n",
        "        covariances[i] = (responsibilities[:, i][:, np.newaxis, np.newaxis] *\n",
        "                          np.einsum('ni,nj->nij', diff, diff)).sum(axis=0) / N_k\n",
        "        covariances[i] += 1e-6 * np.eye(n_features)  # Add small value for numerical stability\n",
        "\n",
        "        # Update mixing coefficient (π_i)\n",
        "        weights[i] = N_k / n_samples\n",
        "\n",
        "# --- Step 4: Plot Final Cluster Assignments ---\n",
        "colors = responsibilities.argmax(axis=1)  # Assign each point to the component with highest responsibility\n",
        "plt.scatter(X[:, 0], X[:, 1], c=colors, cmap='viridis', s=10)\n",
        "plt.scatter(means[:, 0], means[:, 1], c='red', s=100, marker='X', label='Cluster Centers')\n",
        "plt.title(\"GMM Clustering via EM\")\n",
        "plt.legend()\n",
        "plt.show()\n",
        "\n",
        "# --- Step 5: Plot Log-Likelihood Convergence ---\n",
        "plt.plot(log_likelihoods, marker='o')\n",
        "plt.title(\"Log-Likelihood Convergence\")\n",
        "plt.xlabel(\"Iteration\")\n",
        "plt.ylabel(\"Log-Likelihood\")\n",
        "plt.grid(True)\n",
        "plt.tight_layout()\n",
        "plt.show()\n",
        "\n"
      ],
      "metadata": {
        "colab": {
          "base_uri": "https://localhost:8080/",
          "height": 922
        },
        "id": "R8IvmaOiyI8v",
        "outputId": "22065c2c-07e6-46c3-9485-78daa391f85c"
      },
      "execution_count": 45,
      "outputs": [
        {
          "output_type": "display_data",
          "data": {
            "text/plain": [
              "<Figure size 640x480 with 1 Axes>"
            ],
            "image/png": "[encoded data removed]"
          },
          "metadata": {}
        },
        {
          "output_type": "display_data",
          "data": {
            "text/plain": [
              "<Figure size 640x480 with 1 Axes>"
            ],
            "image/png": "[encoded data removed]"
          },
          "metadata": {}
        }
      ]
    },
    {
      "cell_type": "code",
      "source": [
        "np.full(2,1/2)"
      ],
      "metadata": {
        "colab": {
          "base_uri": "https://localhost:8080/"
        },
        "id": "20apng-y2AHa",
        "outputId": "4ab87e93-0670-404f-d3c1-6d2d7f8ed112"
      },
      "execution_count": null,
      "outputs": [
        {
          "output_type": "execute_result",
          "data": {
            "text/plain": [
              "array([0.5, 0.5])"
            ]
          },
          "metadata": {},
          "execution_count": 19
        }
      ]
    },
    {
      "cell_type": "code",
      "source": [],
      "metadata": {
        "id": "gvgXUggu4ppJ"
      },
      "execution_count": null,
      "outputs": []
    },
    {
      "cell_type": "markdown",
      "source": [
        "# Convergence and Covariance between variables."
      ],
      "metadata": {
        "id": "-tU_kquM4qym"
      }
    },
    {
      "cell_type": "code",
      "source": [
        "import numpy as np\n",
        "import matplotlib.pyplot as plt\n",
        "from scipy.stats import multivariate_normal\n",
        "from ipywidgets import interact, FloatSlider, fixed\n",
        "import warnings\n",
        "warnings.filterwarnings('ignore')\n",
        "\n",
        "def run_gmm_em(mu1_x=2.0, mu1_y=2.0, mu2_x=6.0, mu2_y=6.0,\n",
        "               cov1_var_x=1.0, cov1_var_y=1.0, cov1_cov_xy=0.0,\n",
        "               cov2_var_x=1.0, cov2_var_y=1.0, cov2_cov_xy=0.0):\n",
        "\n",
        "    np.random.seed(42)\n",
        "    n = 300\n",
        "    mu_list = [[mu1_x, mu1_y], [mu2_x, mu2_y]]\n",
        "    cov_list = [\n",
        "        [[cov1_var_x, cov1_cov_xy], [cov1_cov_xy, cov1_var_y]],\n",
        "        [[cov2_var_x, cov2_cov_xy], [cov2_cov_xy, cov2_var_y]]\n",
        "    ]\n",
        "\n",
        "    X = np.vstack([\n",
        "        np.random.multivariate_normal(mean, cov, n)\n",
        "        for mean, cov in zip(mu_list, cov_list)\n",
        "    ])\n",
        "\n",
        "    k = 2\n",
        "    n_samples, n_features = X.shape\n",
        "    max_iter = 100\n",
        "    tol = 1e-4\n",
        "\n",
        "    np.random.seed(0)\n",
        "    weights = np.full(k, 1 / k)\n",
        "    means = X[np.random.choice(n_samples, k, replace=False)]\n",
        "    covariances = np.array([\n",
        "        np.cov(X, rowvar=False) + 1e-6 * np.eye(n_features) for _ in range(k)\n",
        "    ])\n",
        "    log_likelihoods = []\n",
        "\n",
        "    for iteration in range(max_iter):\n",
        "        responsibilities = np.zeros((n_samples, k))\n",
        "        for i in range(k):\n",
        "            responsibilities[:, i] = weights[i] * multivariate_normal.pdf(X, mean=means[i], cov=covariances[i])\n",
        "        responsibilities_sum = responsibilities.sum(axis=1, keepdims=True)\n",
        "        responsibilities /= responsibilities_sum\n",
        "\n",
        "        ll = np.sum(np.log(responsibilities_sum))\n",
        "        log_likelihoods.append(ll)\n",
        "        if iteration > 0 and abs(log_likelihoods[-1] - log_likelihoods[-2]) < tol:\n",
        "            break\n",
        "\n",
        "        for i in range(k):\n",
        "            N_k = responsibilities[:, i].sum()\n",
        "            means[i] = (responsibilities[:, i][:, np.newaxis] * X).sum(axis=0) / N_k\n",
        "            diff = X - means[i]\n",
        "            covariances[i] = (responsibilities[:, i][:, np.newaxis, np.newaxis] *\n",
        "                              np.einsum('ni,nj->nij', diff, diff)).sum(axis=0) / N_k\n",
        "            covariances[i] += 1e-6 * np.eye(n_features)\n",
        "            weights[i] = N_k / n_samples\n",
        "\n",
        "    colors = responsibilities.argmax(axis=1)\n",
        "\n",
        "    plt.figure(figsize=(12, 5))\n",
        "\n",
        "    # Plot clusters\n",
        "    plt.subplot(1, 2, 1)\n",
        "    plt.scatter(X[:, 0], X[:, 1], c=colors, cmap='viridis', s=10)\n",
        "    plt.scatter(means[:, 0], means[:, 1], c='red', s=100, marker='X', label='Cluster Centers')\n",
        "    plt.title(\"GMM Clustering via EM\")\n",
        "    plt.legend()\n",
        "    plt.grid(True)\n",
        "\n",
        "    # Plot log-likelihood\n",
        "    plt.subplot(1, 2, 2)\n",
        "    plt.plot(log_likelihoods, marker='o')\n",
        "    plt.title(\"Log-Likelihood Convergence\")\n",
        "    plt.xlabel(\"Iteration\")\n",
        "    plt.ylabel(\"Log-Likelihood\")\n",
        "    plt.grid(True)\n",
        "\n",
        "    plt.tight_layout()\n",
        "    plt.show()\n",
        "\n",
        "# Interactive widgets for means and covariances\n",
        "interact(run_gmm_em,\n",
        "         mu1_x=FloatSlider(min=-5, max=10, step=0.5, value=2),\n",
        "         mu1_y=FloatSlider(min=-5, max=10, step=0.5, value=2),\n",
        "         mu2_x=FloatSlider(min=-5, max=10, step=0.5, value=6),\n",
        "         mu2_y=FloatSlider(min=-5, max=10, step=0.5, value=6),\n",
        "         cov1_var_x=FloatSlider(min=0.1, max=5, step=0.1, value=1),\n",
        "         cov1_var_y=FloatSlider(min=0.1, max=5, step=0.1, value=1),\n",
        "         cov1_cov_xy=FloatSlider(min=-2, max=2, step=0.1, value=0),\n",
        "         cov2_var_x=FloatSlider(min=0.1, max=5, step=0.1, value=1),\n",
        "         cov2_var_y=FloatSlider(min=0.1, max=5, step=0.1, value=1),\n",
        "         cov2_cov_xy=FloatSlider(min=-2, max=2, step=0.1, value=0)\n",
        ")\n"
      ],
      "metadata": {
        "colab": {
          "base_uri": "https://localhost:8080/",
          "height": 931,
          "referenced_widgets": [
            "4e286085ae1c4647b3fda501530af239",
            "f54da1a4e55443d9bf338c284d0c5b62",
            "551ba362869040d4999b593efa2f9936",
            "c1d5ca0a3396473f92e025bb73c09b3c",
            "c5d26439acb646a8b8e1c417c69fff52",
            "266d68d2b009491f82f91c19f375473a",
            "80ac5ecd784b480dbf8b035e5e156d62",
            "d68ea2cc2d764b06a36ace9257e2ed7e",
            "16b3108fcde64eb2a9472b37658d701b",
            "ccde98f5a0c143dba917b902cbb993b0",
            "086be12825f74badba03815d55c60db5",
            "ab7774a9f1374f59a48cb0fe0da58a22",
            "24182b18318e4ce19d86bedd63554551",
            "7923a4442eab4bd99747d5a9073abdae",
            "19f38b81df41407987493005b9c9cc53",
            "6a631b4016284bc59762dd92b241f038",
            "d02b0257af9f45cba69b2eecab80db0d",
            "ee342f3ab26249fd8804d0f70b400503",
            "6bbe88f9ff0249c5ac0bdbfced37fff4",
            "f5664868708a43a293b87aa4a509e4a5",
            "9ff2178ffd224782bae7f678a9b30e20",
            "22ef7cd3e94d4cbd9c24531246026238",
            "ada56b4b8010441db8675842656c60ca",
            "085a480d4c9f49889e2675a04f43276b",
            "b7a1dbd51112488480d2808f375830a3",
            "ce5a714f146441958af68be07d9e5d46",
            "4e9d463e2ca94178a5f619317495d56f",
            "70771a60d34c48bcaed8875873603c9a",
            "68917369b0304754ada920daefd91699",
            "03428e41972147a1b3c7eb9bdc0ced67",
            "acfe4e9d41a44cc3a6a6d5a81576c28a",
            "fe7faec10a344d46a299dc016a04ed42",
            "5ca6a970d53d40708bad44d76b29ea68",
            "056a88588750496793c41c3be27f1ec7"
          ]
        },
        "id": "MUb8gweQ4kfn",
        "outputId": "151e9647-0771-4761-b2c6-0eaeef120bb2"
      },
      "execution_count": 46,
      "outputs": [
        {
          "output_type": "display_data",
          "data": {
            "text/plain": [
              "interactive(children=(FloatSlider(value=2.0, description='mu1_x', max=10.0, min=-5.0, step=0.5), FloatSlider(v…"
            ],
            "application/vnd.jupyter.widget-view+json": {
              "version_major": 2,
              "version_minor": 0,
              "model_id": "4e286085ae1c4647b3fda501530af239"
            }
          },
          "metadata": {}
        },
        {
          "output_type": "execute_result",
          "data": {
            "text/plain": [
              "<function __main__.run_gmm_em(mu1_x=2.0, mu1_y=2.0, mu2_x=6.0, mu2_y=6.0, cov1_var_x=1.0, cov1_var_y=1.0, cov1_cov_xy=0.0, cov2_var_x=1.0, cov2_var_y=1.0, cov2_cov_xy=0.0)>"
            ],
            "text/html": [
              "<div style=\"max-width:800px; border: 1px solid var(--colab-border-color);\"><style>\n",
              "      pre.function-repr-contents {\n",
              "        overflow-x: auto;\n",
              "        padding: 8px 12px;\n",
              "        max-height: 500px;\n",
              "      }\n",
              "\n",
              "      pre.function-repr-contents.function-repr-contents-collapsed {\n",
              "        cursor: pointer;\n",
              "        max-height: 100px;\n",
              "      }\n",
              "    </style>\n",
              "    <pre style=\"white-space: initial; background:\n",
              "         var(--colab-secondary-surface-color); padding: 8px 12px;\n",
              "         border-bottom: 1px solid var(--colab-border-color);\"><b>run_gmm_em</b><br/>def run_gmm_em(mu1_x=2.0, mu1_y=2.0, mu2_x=6.0, mu2_y=6.0, cov1_var_x=1.0, cov1_var_y=1.0, cov1_cov_xy=0.0, cov2_var_x=1.0, cov2_var_y=1.0, cov2_cov_xy=0.0)</pre><pre class=\"function-repr-contents function-repr-contents-collapsed\" style=\"\"><a class=\"filepath\" style=\"display:none\" href=\"#\">/content/&lt;ipython-input-46-80689a532e74&gt;</a>&lt;no docstring&gt;</pre></div>"
            ]
          },
          "metadata": {},
          "execution_count": 46
        }
      ]
    },
    {
      "cell_type": "code",
      "source": [
        "import torch\n",
        "\n",
        "a = torch.tensor([1.0, 2.0, 3.0])  # shape: (3,)\n",
        "b = torch.tensor([4.0, 5.0])       # shape: (2,)\n",
        "\n",
        "outer_product = torch.outer(a, b)\n",
        "print(outer_product)\n",
        "# Output:\n",
        "# tensor([[ 4.,  5.],\n",
        "#         [ 8., 10.],\n",
        "#         [12., 15.]])\n"
      ],
      "metadata": {
        "colab": {
          "base_uri": "https://localhost:8080/"
        },
        "id": "-U5tnBpdC5cl",
        "outputId": "b057da70-19e1-4b59-a0b7-cc369225331d"
      },
      "execution_count": null,
      "outputs": [
        {
          "output_type": "stream",
          "name": "stdout",
          "text": [
            "tensor([[ 4.,  5.],\n",
            "        [ 8., 10.],\n",
            "        [12., 15.]])\n"
          ]
        }
      ]
    },
    {
      "cell_type": "code",
      "source": [
        "a[:,None].shape"
      ],
      "metadata": {
        "colab": {
          "base_uri": "https://localhost:8080/"
        },
        "id": "hIriAZjDDLzW",
        "outputId": "b534f566-c2fd-4515-d81d-515a6394650c"
      },
      "execution_count": null,
      "outputs": [
        {
          "output_type": "execute_result",
          "data": {
            "text/plain": [
              "torch.Size([3, 1])"
            ]
          },
          "metadata": {},
          "execution_count": 9
        }
      ]
    },
    {
      "cell_type": "code",
      "source": [
        "b[None,:]"
      ],
      "metadata": {
        "colab": {
          "base_uri": "https://localhost:8080/"
        },
        "id": "DffSLM1-Md58",
        "outputId": "a9428b03-0c59-4cba-ad48-ac5e1db0cb10"
      },
      "execution_count": null,
      "outputs": [
        {
          "output_type": "execute_result",
          "data": {
            "text/plain": [
              "tensor([[4., 5.]])"
            ]
          },
          "metadata": {},
          "execution_count": 27
        }
      ]
    },
    {
      "cell_type": "code",
      "source": [
        "b[None,:].shape"
      ],
      "metadata": {
        "colab": {
          "base_uri": "https://localhost:8080/"
        },
        "id": "Pjhp7i3uMhLa",
        "outputId": "c327208f-0415-4390-a49d-139795f748ce"
      },
      "execution_count": null,
      "outputs": [
        {
          "output_type": "execute_result",
          "data": {
            "text/plain": [
              "torch.Size([1, 2])"
            ]
          },
          "metadata": {},
          "execution_count": 28
        }
      ]
    },
    {
      "cell_type": "code",
      "source": [
        "np.outer(a[:,None],b[None,:])"
      ],
      "metadata": {
        "colab": {
          "base_uri": "https://localhost:8080/"
        },
        "id": "nRCj9vo7Mo8j",
        "outputId": "4bf5084a-2d3d-4fc2-9ac2-b5ba5e27f740"
      },
      "execution_count": null,
      "outputs": [
        {
          "output_type": "execute_result",
          "data": {
            "text/plain": [
              "array([[ 4.,  5.],\n",
              "       [ 8., 10.],\n",
              "       [12., 15.]])"
            ]
          },
          "metadata": {},
          "execution_count": 31
        }
      ]
    },
    {
      "cell_type": "code",
      "source": [
        "a=np.array([1,2,3])\n",
        "b=np.array([4,5])"
      ],
      "metadata": {
        "id": "ajm9X2jqO5BT"
      },
      "execution_count": null,
      "outputs": []
    },
    {
      "cell_type": "code",
      "source": [
        "a[:,None]*b[None,:]"
      ],
      "metadata": {
        "colab": {
          "base_uri": "https://localhost:8080/"
        },
        "id": "ATIqJlYvOv8J",
        "outputId": "b8c89463-5f6d-493c-b3bf-89e0e9b75ad8"
      },
      "execution_count": null,
      "outputs": [
        {
          "output_type": "execute_result",
          "data": {
            "text/plain": [
              "array([[ 4,  5],\n",
              "       [ 8, 10],\n",
              "       [12, 15]])"
            ]
          },
          "metadata": {},
          "execution_count": 34
        }
      ]
    },
    {
      "cell_type": "markdown",
      "source": [],
      "metadata": {
        "id": "lVOhQgDN5mJX"
      }
    }
  ]
}